{
 "cells": [
  {
   "cell_type": "markdown",
   "metadata": {},
   "source": [
    "# Data wrangling : sparsify, use indices for labels"
   ]
  },
  {
   "cell_type": "code",
   "execution_count": 1,
   "metadata": {},
   "outputs": [],
   "source": [
    "import pandas as pd\n",
    "import numpy as np\n",
    "import matplotlib.pyplot as plt\n",
    "from scipy import sparse as sps\n",
    "%matplotlib widget"
   ]
  },
  {
   "cell_type": "code",
   "execution_count": 2,
   "metadata": {},
   "outputs": [
    {
     "data": {
      "text/plain": [
       "{'empo_1': {'Free-living': 0, 'Host-associated': 1},\n",
       " 'empo_2': {'Non-saline': 0, 'Saline': 1, 'Animal': 2, 'Plant': 3},\n",
       " 'empo_3': {'Water (non-saline)': 0,\n",
       "  'Soil (non-saline)': 1,\n",
       "  'Sediment (saline)': 2,\n",
       "  'Animal surface': 3,\n",
       "  'Surface (non-saline)': 4,\n",
       "  'Animal distal gut': 5,\n",
       "  'Animal corpus': 6,\n",
       "  'Plant surface': 7,\n",
       "  'Water (saline)': 8,\n",
       "  'Animal secretion': 9,\n",
       "  'Sediment (non-saline)': 10,\n",
       "  'Plant rhizosphere': 11,\n",
       "  'Plant corpus': 12,\n",
       "  'Surface (saline)': 13,\n",
       "  'Animal proximal gut': 14,\n",
       "  'Aerosol (non-saline)': 15,\n",
       "  'Hypersaline (saline)': 16}}"
      ]
     },
     "execution_count": 2,
     "metadata": {},
     "output_type": "execute_result"
    }
   ],
   "source": [
    "envs = pd.read_csv('training_environments.csv', index_col=0)\n",
    "empo_names = [f'empo_{i}' for i in range(1, 4)]\n",
    "empo_index_to_label = []\n",
    "\n",
    "for empo in empo_names:\n",
    "    empo_index_to_label.append([str(row) for row in envs.drop_duplicates(subset=empo)[empo]])\n",
    "    \n",
    "empo_label_to_index = {name : {label : i for i, label in enumerate(labels)} for name, labels in zip(empo_names, empo_index_to_label)}\n",
    "empo_label_to_index"
   ]
  },
  {
   "cell_type": "code",
   "execution_count": 3,
   "metadata": {},
   "outputs": [],
   "source": [
    "# replace text labels with integers\n",
    "envs = envs.replace(empo_label_to_index)"
   ]
  },
  {
   "cell_type": "code",
   "execution_count": 4,
   "metadata": {},
   "outputs": [],
   "source": [
    "import numpy as np"
   ]
  },
  {
   "cell_type": "code",
   "execution_count": 5,
   "metadata": {},
   "outputs": [],
   "source": [
    "def save_as_sparse(in_filename, out_filename):\n",
    "    line_count = sum(1 for line in open(in_filename))\n",
    "    rows = []\n",
    "    with open(in_filename) as f:\n",
    "        for i, line in enumerate(f):\n",
    "            if i == 0:\n",
    "                continue\n",
    "            row = [int(x) for x in line.strip().split(',')[1:]]\n",
    "            row = sps.csr_matrix(row)\n",
    "            rows.append(row)\n",
    "\n",
    "            if i % 1000 == 0:\n",
    "                print(f'Sparsifying {in_filename} [row {i} / {line_count}]\\r')\n",
    "    mat = sps.vstack(rows)\n",
    "    \n",
    "    sps.save_npz(out_filename, mat)"
   ]
  },
  {
   "cell_type": "code",
   "execution_count": 6,
   "metadata": {},
   "outputs": [],
   "source": [
    "from pathlib import Path\n",
    "\n",
    "def maybe_sparsify(in_filename, out_filename):\n",
    "    if not Path(out_filename).is_file():\n",
    "        save_as_sparse(in_filename, out_filename)\n",
    "        \n",
    "def get_header_line(csv_file):\n",
    "    with open(csv_file) as f:\n",
    "        line = next(f)\n",
    "        return np.array(line.rstrip().split(',')[1:])\n",
    "    \n",
    "maybe_sparsify('training_descriptors.csv', 'training_descriptors_sparse.npz')\n",
    "maybe_sparsify('challenge_descriptors.csv', 'challenge_descriptors_sparse.npz')"
   ]
  },
  {
   "cell_type": "code",
   "execution_count": 13,
   "metadata": {},
   "outputs": [],
   "source": [
    "desc_species_names = get_header_line('training_descriptors_header.csv')\n",
    "\n",
    "desc = sps.load_npz('training_descriptors_sparse.npz')\n",
    "species = pd.read_csv('bacterial_species.csv', index_col=0)"
   ]
  },
  {
   "cell_type": "code",
   "execution_count": 14,
   "metadata": {},
   "outputs": [
    {
     "name": "stdout",
     "output_type": "stream",
     "text": [
      "In-memory size of desc : 496.68M\n"
     ]
    }
   ],
   "source": [
    "def sparse_megabytes(a):\n",
    "    return (a.data.nbytes + a.indptr.nbytes + a.indices.nbytes) / (1024 * 1024)\n",
    "\n",
    "print(f'In-memory size of desc : {sparse_megabytes(desc):.2f}M')"
   ]
  },
  {
   "cell_type": "code",
   "execution_count": 33,
   "metadata": {},
   "outputs": [],
   "source": [
    "def to_taxonomy_df(desc, taxon_level):\n",
    "    taxons = species[taxon_level][desc_species_names]\n",
    "    columns = taxons.unique()\n",
    "\n",
    "    taxon_indices, taxon_names = pd.factorize(taxons)\n",
    "    \n",
    "    data = np.ones(taxon_indices.shape)\n",
    "    row_ind = np.arange(taxon_indices.shape[0])\n",
    "    col_ind = taxon_indices\n",
    "    \n",
    "    D = sps.csr_matrix((data, (row_ind, col_ind)))\n",
    "    \n",
    "    table = desc @ D\n",
    "    \n",
    "    return taxon_names, table\n",
    "\n",
    "taxon_names = {}\n",
    "taxons = {}\n",
    "\n",
    "for taxon_level in species.columns:\n",
    "    taxon_names[taxon_level], taxons[taxon_level] = to_taxonomy_df(desc, taxon_level)"
   ]
  },
  {
   "cell_type": "markdown",
   "metadata": {},
   "source": [
    "# Classification"
   ]
  },
  {
   "cell_type": "code",
   "execution_count": 79,
   "metadata": {},
   "outputs": [],
   "source": [
    "from sklearn.linear_model import LogisticRegression\n",
    "from sklearn.ensemble import RandomForestClassifier\n",
    "from sklearn.model_selection import KFold, cross_validate\n",
    "\n",
    "clf_logit = LogisticRegression(random_state=0, n_jobs=-1)\n",
    "clf_rforest = RandomForestClassifier(random_state=0, n_jobs=-1)"
   ]
  },
  {
   "cell_type": "code",
   "execution_count": 58,
   "metadata": {},
   "outputs": [],
   "source": [
    "def cross_validate_clf(clf, desc, empo, samples=None, fast=False, n_splits=5):\n",
    "    samples = samples if samples is not None else desc.shape[0]\n",
    "    \n",
    "    # shuffle and truncate data\n",
    "    idx = np.arange(samples)\n",
    "\n",
    "    gen = np.random.default_rng(0)\n",
    "    gen.shuffle(idx)\n",
    "    idx = idx[:samples]\n",
    "    \n",
    "    desc = desc[idx]\n",
    "    empo = empo[idx]\n",
    "    \n",
    "    if fast:\n",
    "        print('Warning : using fast evaluation, cross-validation turned off.')\n",
    "        \n",
    "        train_pcent = 1 - 1 / n_splits\n",
    "        train_count = int(round(train_pcent * samples))\n",
    "\n",
    "        desc_train = desc_shuf[:train_count]\n",
    "        desc_validate = desc_shuf[train_count:]\n",
    "\n",
    "        empo_train = empo[:train_count]\n",
    "        empo_validate = empo[train_count:]\n",
    "\n",
    "        clf.fit(desc_train, empo_train)\n",
    "        accuracy = clf.score(desc_validate, empo_validate)\n",
    "        accuracies = np.array([accuracy])\n",
    "        \n",
    "        f1 = f1_score(clf.predict(desc_validate), empo_validate, average='weighted')\n",
    "        f1 = np.array([f1])\n",
    "        \n",
    "        return {'test_accuracy' : accuracies, 'test_f1_weighted' : f1}\n",
    "    else:\n",
    "        # cross validation\n",
    "        k_folds = KFold(n_splits=n_splits, shuffle=True, random_state=0)\n",
    "    \n",
    "        return cross_validate(clf, desc, empo, cv=k_folds, scoring=['accuracy', 'f1_weighted'], n_jobs=-1)\n",
    "    \n",
    "def train_clf(clf, desc, envs, empo):\n",
    "    clf.fit(desc, envs[empo])"
   ]
  },
  {
   "cell_type": "code",
   "execution_count": 175,
   "metadata": {
    "scrolled": true
   },
   "outputs": [
    {
     "name": "stdout",
     "output_type": "stream",
     "text": [
      "rforest empo_1 taxonomy_0\n",
      "rforest empo_1 taxonomy_1\n",
      "rforest empo_1 taxonomy_2\n",
      "rforest empo_1 taxonomy_3\n",
      "rforest empo_1 taxonomy_4\n",
      "rforest empo_1 taxonomy_5\n",
      "rforest empo_1 taxonomy_6\n",
      "rforest empo_1 desc\n",
      "rforest empo_2 taxonomy_0\n",
      "rforest empo_2 taxonomy_1\n",
      "rforest empo_2 taxonomy_2\n",
      "rforest empo_2 taxonomy_3\n",
      "rforest empo_2 taxonomy_4\n",
      "rforest empo_2 taxonomy_5\n",
      "rforest empo_2 taxonomy_6\n",
      "rforest empo_2 desc\n",
      "rforest empo_3 taxonomy_0\n",
      "rforest empo_3 taxonomy_1\n",
      "rforest empo_3 taxonomy_2\n",
      "rforest empo_3 taxonomy_3\n",
      "rforest empo_3 taxonomy_4\n",
      "rforest empo_3 taxonomy_5\n",
      "rforest empo_3 taxonomy_6\n",
      "rforest empo_3 desc\n",
      "logit empo_1 taxonomy_0\n",
      "logit empo_1 taxonomy_1\n"
     ]
    },
    {
     "name": "stderr",
     "output_type": "stream",
     "text": [
      "/home/toc/.local/lib/python3.10/site-packages/sklearn/linear_model/_logistic.py:444: ConvergenceWarning: lbfgs failed to converge (status=1):\n",
      "STOP: TOTAL NO. of ITERATIONS REACHED LIMIT.\n",
      "\n",
      "Increase the number of iterations (max_iter) or scale the data as shown in:\n",
      "    https://scikit-learn.org/stable/modules/preprocessing.html\n",
      "Please also refer to the documentation for alternative solver options:\n",
      "    https://scikit-learn.org/stable/modules/linear_model.html#logistic-regression\n",
      "  n_iter_i = _check_optimize_result(\n",
      "/home/toc/.local/lib/python3.10/site-packages/sklearn/linear_model/_logistic.py:444: ConvergenceWarning: lbfgs failed to converge (status=1):\n",
      "STOP: TOTAL NO. of ITERATIONS REACHED LIMIT.\n",
      "\n",
      "Increase the number of iterations (max_iter) or scale the data as shown in:\n",
      "    https://scikit-learn.org/stable/modules/preprocessing.html\n",
      "Please also refer to the documentation for alternative solver options:\n",
      "    https://scikit-learn.org/stable/modules/linear_model.html#logistic-regression\n",
      "  n_iter_i = _check_optimize_result(\n",
      "/home/toc/.local/lib/python3.10/site-packages/sklearn/linear_model/_logistic.py:444: ConvergenceWarning: lbfgs failed to converge (status=1):\n",
      "STOP: TOTAL NO. of ITERATIONS REACHED LIMIT.\n",
      "\n",
      "Increase the number of iterations (max_iter) or scale the data as shown in:\n",
      "    https://scikit-learn.org/stable/modules/preprocessing.html\n",
      "Please also refer to the documentation for alternative solver options:\n",
      "    https://scikit-learn.org/stable/modules/linear_model.html#logistic-regression\n",
      "  n_iter_i = _check_optimize_result(\n",
      "/home/toc/.local/lib/python3.10/site-packages/sklearn/linear_model/_logistic.py:444: ConvergenceWarning: lbfgs failed to converge (status=1):\n",
      "STOP: TOTAL NO. of ITERATIONS REACHED LIMIT.\n",
      "\n",
      "Increase the number of iterations (max_iter) or scale the data as shown in:\n",
      "    https://scikit-learn.org/stable/modules/preprocessing.html\n",
      "Please also refer to the documentation for alternative solver options:\n",
      "    https://scikit-learn.org/stable/modules/linear_model.html#logistic-regression\n",
      "  n_iter_i = _check_optimize_result(\n",
      "/home/toc/.local/lib/python3.10/site-packages/sklearn/linear_model/_logistic.py:444: ConvergenceWarning: lbfgs failed to converge (status=1):\n",
      "STOP: TOTAL NO. of ITERATIONS REACHED LIMIT.\n",
      "\n",
      "Increase the number of iterations (max_iter) or scale the data as shown in:\n",
      "    https://scikit-learn.org/stable/modules/preprocessing.html\n",
      "Please also refer to the documentation for alternative solver options:\n",
      "    https://scikit-learn.org/stable/modules/linear_model.html#logistic-regression\n",
      "  n_iter_i = _check_optimize_result(\n"
     ]
    },
    {
     "name": "stdout",
     "output_type": "stream",
     "text": [
      "logit empo_1 taxonomy_2\n"
     ]
    },
    {
     "name": "stderr",
     "output_type": "stream",
     "text": [
      "/home/toc/.local/lib/python3.10/site-packages/sklearn/linear_model/_logistic.py:444: ConvergenceWarning: lbfgs failed to converge (status=1):\n",
      "STOP: TOTAL NO. of ITERATIONS REACHED LIMIT.\n",
      "\n",
      "Increase the number of iterations (max_iter) or scale the data as shown in:\n",
      "    https://scikit-learn.org/stable/modules/preprocessing.html\n",
      "Please also refer to the documentation for alternative solver options:\n",
      "    https://scikit-learn.org/stable/modules/linear_model.html#logistic-regression\n",
      "  n_iter_i = _check_optimize_result(\n",
      "/home/toc/.local/lib/python3.10/site-packages/sklearn/linear_model/_logistic.py:444: ConvergenceWarning: lbfgs failed to converge (status=1):\n",
      "STOP: TOTAL NO. of ITERATIONS REACHED LIMIT.\n",
      "\n",
      "Increase the number of iterations (max_iter) or scale the data as shown in:\n",
      "    https://scikit-learn.org/stable/modules/preprocessing.html\n",
      "Please also refer to the documentation for alternative solver options:\n",
      "    https://scikit-learn.org/stable/modules/linear_model.html#logistic-regression\n",
      "  n_iter_i = _check_optimize_result(\n",
      "/home/toc/.local/lib/python3.10/site-packages/sklearn/linear_model/_logistic.py:444: ConvergenceWarning: lbfgs failed to converge (status=1):\n",
      "STOP: TOTAL NO. of ITERATIONS REACHED LIMIT.\n",
      "\n",
      "Increase the number of iterations (max_iter) or scale the data as shown in:\n",
      "    https://scikit-learn.org/stable/modules/preprocessing.html\n",
      "Please also refer to the documentation for alternative solver options:\n",
      "    https://scikit-learn.org/stable/modules/linear_model.html#logistic-regression\n",
      "  n_iter_i = _check_optimize_result(\n",
      "/home/toc/.local/lib/python3.10/site-packages/sklearn/linear_model/_logistic.py:444: ConvergenceWarning: lbfgs failed to converge (status=1):\n",
      "STOP: TOTAL NO. of ITERATIONS REACHED LIMIT.\n",
      "\n",
      "Increase the number of iterations (max_iter) or scale the data as shown in:\n",
      "    https://scikit-learn.org/stable/modules/preprocessing.html\n",
      "Please also refer to the documentation for alternative solver options:\n",
      "    https://scikit-learn.org/stable/modules/linear_model.html#logistic-regression\n",
      "  n_iter_i = _check_optimize_result(\n",
      "/home/toc/.local/lib/python3.10/site-packages/sklearn/linear_model/_logistic.py:444: ConvergenceWarning: lbfgs failed to converge (status=1):\n",
      "STOP: TOTAL NO. of ITERATIONS REACHED LIMIT.\n",
      "\n",
      "Increase the number of iterations (max_iter) or scale the data as shown in:\n",
      "    https://scikit-learn.org/stable/modules/preprocessing.html\n",
      "Please also refer to the documentation for alternative solver options:\n",
      "    https://scikit-learn.org/stable/modules/linear_model.html#logistic-regression\n",
      "  n_iter_i = _check_optimize_result(\n"
     ]
    },
    {
     "name": "stdout",
     "output_type": "stream",
     "text": [
      "logit empo_1 taxonomy_3\n"
     ]
    },
    {
     "name": "stderr",
     "output_type": "stream",
     "text": [
      "/home/toc/.local/lib/python3.10/site-packages/sklearn/linear_model/_logistic.py:444: ConvergenceWarning: lbfgs failed to converge (status=1):\n",
      "STOP: TOTAL NO. of ITERATIONS REACHED LIMIT.\n",
      "\n",
      "Increase the number of iterations (max_iter) or scale the data as shown in:\n",
      "    https://scikit-learn.org/stable/modules/preprocessing.html\n",
      "Please also refer to the documentation for alternative solver options:\n",
      "    https://scikit-learn.org/stable/modules/linear_model.html#logistic-regression\n",
      "  n_iter_i = _check_optimize_result(\n",
      "/home/toc/.local/lib/python3.10/site-packages/sklearn/linear_model/_logistic.py:444: ConvergenceWarning: lbfgs failed to converge (status=1):\n",
      "STOP: TOTAL NO. of ITERATIONS REACHED LIMIT.\n",
      "\n",
      "Increase the number of iterations (max_iter) or scale the data as shown in:\n",
      "    https://scikit-learn.org/stable/modules/preprocessing.html\n",
      "Please also refer to the documentation for alternative solver options:\n",
      "    https://scikit-learn.org/stable/modules/linear_model.html#logistic-regression\n",
      "  n_iter_i = _check_optimize_result(\n",
      "/home/toc/.local/lib/python3.10/site-packages/sklearn/linear_model/_logistic.py:444: ConvergenceWarning: lbfgs failed to converge (status=1):\n",
      "STOP: TOTAL NO. of ITERATIONS REACHED LIMIT.\n",
      "\n",
      "Increase the number of iterations (max_iter) or scale the data as shown in:\n",
      "    https://scikit-learn.org/stable/modules/preprocessing.html\n",
      "Please also refer to the documentation for alternative solver options:\n",
      "    https://scikit-learn.org/stable/modules/linear_model.html#logistic-regression\n",
      "  n_iter_i = _check_optimize_result(\n",
      "/home/toc/.local/lib/python3.10/site-packages/sklearn/linear_model/_logistic.py:444: ConvergenceWarning: lbfgs failed to converge (status=1):\n",
      "STOP: TOTAL NO. of ITERATIONS REACHED LIMIT.\n",
      "\n",
      "Increase the number of iterations (max_iter) or scale the data as shown in:\n",
      "    https://scikit-learn.org/stable/modules/preprocessing.html\n",
      "Please also refer to the documentation for alternative solver options:\n",
      "    https://scikit-learn.org/stable/modules/linear_model.html#logistic-regression\n",
      "  n_iter_i = _check_optimize_result(\n",
      "/home/toc/.local/lib/python3.10/site-packages/sklearn/linear_model/_logistic.py:444: ConvergenceWarning: lbfgs failed to converge (status=1):\n",
      "STOP: TOTAL NO. of ITERATIONS REACHED LIMIT.\n",
      "\n",
      "Increase the number of iterations (max_iter) or scale the data as shown in:\n",
      "    https://scikit-learn.org/stable/modules/preprocessing.html\n",
      "Please also refer to the documentation for alternative solver options:\n",
      "    https://scikit-learn.org/stable/modules/linear_model.html#logistic-regression\n",
      "  n_iter_i = _check_optimize_result(\n"
     ]
    },
    {
     "name": "stdout",
     "output_type": "stream",
     "text": [
      "logit empo_1 taxonomy_4\n"
     ]
    },
    {
     "name": "stderr",
     "output_type": "stream",
     "text": [
      "/home/toc/.local/lib/python3.10/site-packages/sklearn/linear_model/_logistic.py:444: ConvergenceWarning: lbfgs failed to converge (status=1):\n",
      "STOP: TOTAL NO. of ITERATIONS REACHED LIMIT.\n",
      "\n",
      "Increase the number of iterations (max_iter) or scale the data as shown in:\n",
      "    https://scikit-learn.org/stable/modules/preprocessing.html\n",
      "Please also refer to the documentation for alternative solver options:\n",
      "    https://scikit-learn.org/stable/modules/linear_model.html#logistic-regression\n",
      "  n_iter_i = _check_optimize_result(\n",
      "/home/toc/.local/lib/python3.10/site-packages/sklearn/linear_model/_logistic.py:444: ConvergenceWarning: lbfgs failed to converge (status=1):\n",
      "STOP: TOTAL NO. of ITERATIONS REACHED LIMIT.\n",
      "\n",
      "Increase the number of iterations (max_iter) or scale the data as shown in:\n",
      "    https://scikit-learn.org/stable/modules/preprocessing.html\n",
      "Please also refer to the documentation for alternative solver options:\n",
      "    https://scikit-learn.org/stable/modules/linear_model.html#logistic-regression\n",
      "  n_iter_i = _check_optimize_result(\n",
      "/home/toc/.local/lib/python3.10/site-packages/sklearn/linear_model/_logistic.py:444: ConvergenceWarning: lbfgs failed to converge (status=1):\n",
      "STOP: TOTAL NO. of ITERATIONS REACHED LIMIT.\n",
      "\n",
      "Increase the number of iterations (max_iter) or scale the data as shown in:\n",
      "    https://scikit-learn.org/stable/modules/preprocessing.html\n",
      "Please also refer to the documentation for alternative solver options:\n",
      "    https://scikit-learn.org/stable/modules/linear_model.html#logistic-regression\n",
      "  n_iter_i = _check_optimize_result(\n",
      "/home/toc/.local/lib/python3.10/site-packages/sklearn/linear_model/_logistic.py:444: ConvergenceWarning: lbfgs failed to converge (status=1):\n",
      "STOP: TOTAL NO. of ITERATIONS REACHED LIMIT.\n",
      "\n",
      "Increase the number of iterations (max_iter) or scale the data as shown in:\n",
      "    https://scikit-learn.org/stable/modules/preprocessing.html\n",
      "Please also refer to the documentation for alternative solver options:\n",
      "    https://scikit-learn.org/stable/modules/linear_model.html#logistic-regression\n",
      "  n_iter_i = _check_optimize_result(\n",
      "/home/toc/.local/lib/python3.10/site-packages/sklearn/linear_model/_logistic.py:444: ConvergenceWarning: lbfgs failed to converge (status=1):\n",
      "STOP: TOTAL NO. of ITERATIONS REACHED LIMIT.\n",
      "\n",
      "Increase the number of iterations (max_iter) or scale the data as shown in:\n",
      "    https://scikit-learn.org/stable/modules/preprocessing.html\n",
      "Please also refer to the documentation for alternative solver options:\n",
      "    https://scikit-learn.org/stable/modules/linear_model.html#logistic-regression\n",
      "  n_iter_i = _check_optimize_result(\n"
     ]
    },
    {
     "name": "stdout",
     "output_type": "stream",
     "text": [
      "logit empo_1 taxonomy_5\n"
     ]
    },
    {
     "name": "stderr",
     "output_type": "stream",
     "text": [
      "/home/toc/.local/lib/python3.10/site-packages/sklearn/linear_model/_logistic.py:444: ConvergenceWarning: lbfgs failed to converge (status=1):\n",
      "STOP: TOTAL NO. of ITERATIONS REACHED LIMIT.\n",
      "\n",
      "Increase the number of iterations (max_iter) or scale the data as shown in:\n",
      "    https://scikit-learn.org/stable/modules/preprocessing.html\n",
      "Please also refer to the documentation for alternative solver options:\n",
      "    https://scikit-learn.org/stable/modules/linear_model.html#logistic-regression\n",
      "  n_iter_i = _check_optimize_result(\n",
      "/home/toc/.local/lib/python3.10/site-packages/sklearn/linear_model/_logistic.py:444: ConvergenceWarning: lbfgs failed to converge (status=1):\n",
      "STOP: TOTAL NO. of ITERATIONS REACHED LIMIT.\n",
      "\n",
      "Increase the number of iterations (max_iter) or scale the data as shown in:\n",
      "    https://scikit-learn.org/stable/modules/preprocessing.html\n",
      "Please also refer to the documentation for alternative solver options:\n",
      "    https://scikit-learn.org/stable/modules/linear_model.html#logistic-regression\n",
      "  n_iter_i = _check_optimize_result(\n",
      "/home/toc/.local/lib/python3.10/site-packages/sklearn/linear_model/_logistic.py:444: ConvergenceWarning: lbfgs failed to converge (status=1):\n",
      "STOP: TOTAL NO. of ITERATIONS REACHED LIMIT.\n",
      "\n",
      "Increase the number of iterations (max_iter) or scale the data as shown in:\n",
      "    https://scikit-learn.org/stable/modules/preprocessing.html\n",
      "Please also refer to the documentation for alternative solver options:\n",
      "    https://scikit-learn.org/stable/modules/linear_model.html#logistic-regression\n",
      "  n_iter_i = _check_optimize_result(\n",
      "/home/toc/.local/lib/python3.10/site-packages/sklearn/linear_model/_logistic.py:444: ConvergenceWarning: lbfgs failed to converge (status=1):\n",
      "STOP: TOTAL NO. of ITERATIONS REACHED LIMIT.\n",
      "\n",
      "Increase the number of iterations (max_iter) or scale the data as shown in:\n",
      "    https://scikit-learn.org/stable/modules/preprocessing.html\n",
      "Please also refer to the documentation for alternative solver options:\n",
      "    https://scikit-learn.org/stable/modules/linear_model.html#logistic-regression\n",
      "  n_iter_i = _check_optimize_result(\n",
      "/home/toc/.local/lib/python3.10/site-packages/sklearn/linear_model/_logistic.py:444: ConvergenceWarning: lbfgs failed to converge (status=1):\n",
      "STOP: TOTAL NO. of ITERATIONS REACHED LIMIT.\n",
      "\n",
      "Increase the number of iterations (max_iter) or scale the data as shown in:\n",
      "    https://scikit-learn.org/stable/modules/preprocessing.html\n",
      "Please also refer to the documentation for alternative solver options:\n",
      "    https://scikit-learn.org/stable/modules/linear_model.html#logistic-regression\n",
      "  n_iter_i = _check_optimize_result(\n"
     ]
    },
    {
     "name": "stdout",
     "output_type": "stream",
     "text": [
      "logit empo_1 taxonomy_6\n"
     ]
    },
    {
     "name": "stderr",
     "output_type": "stream",
     "text": [
      "/home/toc/.local/lib/python3.10/site-packages/sklearn/linear_model/_logistic.py:444: ConvergenceWarning: lbfgs failed to converge (status=1):\n",
      "STOP: TOTAL NO. of ITERATIONS REACHED LIMIT.\n",
      "\n",
      "Increase the number of iterations (max_iter) or scale the data as shown in:\n",
      "    https://scikit-learn.org/stable/modules/preprocessing.html\n",
      "Please also refer to the documentation for alternative solver options:\n",
      "    https://scikit-learn.org/stable/modules/linear_model.html#logistic-regression\n",
      "  n_iter_i = _check_optimize_result(\n",
      "/home/toc/.local/lib/python3.10/site-packages/sklearn/linear_model/_logistic.py:444: ConvergenceWarning: lbfgs failed to converge (status=1):\n",
      "STOP: TOTAL NO. of ITERATIONS REACHED LIMIT.\n",
      "\n",
      "Increase the number of iterations (max_iter) or scale the data as shown in:\n",
      "    https://scikit-learn.org/stable/modules/preprocessing.html\n",
      "Please also refer to the documentation for alternative solver options:\n",
      "    https://scikit-learn.org/stable/modules/linear_model.html#logistic-regression\n",
      "  n_iter_i = _check_optimize_result(\n",
      "/home/toc/.local/lib/python3.10/site-packages/sklearn/linear_model/_logistic.py:444: ConvergenceWarning: lbfgs failed to converge (status=1):\n",
      "STOP: TOTAL NO. of ITERATIONS REACHED LIMIT.\n",
      "\n",
      "Increase the number of iterations (max_iter) or scale the data as shown in:\n",
      "    https://scikit-learn.org/stable/modules/preprocessing.html\n",
      "Please also refer to the documentation for alternative solver options:\n",
      "    https://scikit-learn.org/stable/modules/linear_model.html#logistic-regression\n",
      "  n_iter_i = _check_optimize_result(\n",
      "/home/toc/.local/lib/python3.10/site-packages/sklearn/linear_model/_logistic.py:444: ConvergenceWarning: lbfgs failed to converge (status=1):\n",
      "STOP: TOTAL NO. of ITERATIONS REACHED LIMIT.\n",
      "\n",
      "Increase the number of iterations (max_iter) or scale the data as shown in:\n",
      "    https://scikit-learn.org/stable/modules/preprocessing.html\n",
      "Please also refer to the documentation for alternative solver options:\n",
      "    https://scikit-learn.org/stable/modules/linear_model.html#logistic-regression\n",
      "  n_iter_i = _check_optimize_result(\n",
      "/home/toc/.local/lib/python3.10/site-packages/sklearn/linear_model/_logistic.py:444: ConvergenceWarning: lbfgs failed to converge (status=1):\n",
      "STOP: TOTAL NO. of ITERATIONS REACHED LIMIT.\n",
      "\n",
      "Increase the number of iterations (max_iter) or scale the data as shown in:\n",
      "    https://scikit-learn.org/stable/modules/preprocessing.html\n",
      "Please also refer to the documentation for alternative solver options:\n",
      "    https://scikit-learn.org/stable/modules/linear_model.html#logistic-regression\n",
      "  n_iter_i = _check_optimize_result(\n"
     ]
    },
    {
     "name": "stdout",
     "output_type": "stream",
     "text": [
      "logit empo_1 desc\n"
     ]
    },
    {
     "name": "stderr",
     "output_type": "stream",
     "text": [
      "/home/toc/.local/lib/python3.10/site-packages/sklearn/linear_model/_logistic.py:444: ConvergenceWarning: lbfgs failed to converge (status=1):\n",
      "STOP: TOTAL NO. of ITERATIONS REACHED LIMIT.\n",
      "\n",
      "Increase the number of iterations (max_iter) or scale the data as shown in:\n",
      "    https://scikit-learn.org/stable/modules/preprocessing.html\n",
      "Please also refer to the documentation for alternative solver options:\n",
      "    https://scikit-learn.org/stable/modules/linear_model.html#logistic-regression\n",
      "  n_iter_i = _check_optimize_result(\n",
      "/home/toc/.local/lib/python3.10/site-packages/sklearn/linear_model/_logistic.py:444: ConvergenceWarning: lbfgs failed to converge (status=1):\n",
      "STOP: TOTAL NO. of ITERATIONS REACHED LIMIT.\n",
      "\n",
      "Increase the number of iterations (max_iter) or scale the data as shown in:\n",
      "    https://scikit-learn.org/stable/modules/preprocessing.html\n",
      "Please also refer to the documentation for alternative solver options:\n",
      "    https://scikit-learn.org/stable/modules/linear_model.html#logistic-regression\n",
      "  n_iter_i = _check_optimize_result(\n",
      "/home/toc/.local/lib/python3.10/site-packages/sklearn/linear_model/_logistic.py:444: ConvergenceWarning: lbfgs failed to converge (status=1):\n",
      "STOP: TOTAL NO. of ITERATIONS REACHED LIMIT.\n",
      "\n",
      "Increase the number of iterations (max_iter) or scale the data as shown in:\n",
      "    https://scikit-learn.org/stable/modules/preprocessing.html\n",
      "Please also refer to the documentation for alternative solver options:\n",
      "    https://scikit-learn.org/stable/modules/linear_model.html#logistic-regression\n",
      "  n_iter_i = _check_optimize_result(\n",
      "/home/toc/.local/lib/python3.10/site-packages/sklearn/linear_model/_logistic.py:444: ConvergenceWarning: lbfgs failed to converge (status=1):\n",
      "STOP: TOTAL NO. of ITERATIONS REACHED LIMIT.\n",
      "\n",
      "Increase the number of iterations (max_iter) or scale the data as shown in:\n",
      "    https://scikit-learn.org/stable/modules/preprocessing.html\n",
      "Please also refer to the documentation for alternative solver options:\n",
      "    https://scikit-learn.org/stable/modules/linear_model.html#logistic-regression\n",
      "  n_iter_i = _check_optimize_result(\n",
      "/home/toc/.local/lib/python3.10/site-packages/sklearn/linear_model/_logistic.py:444: ConvergenceWarning: lbfgs failed to converge (status=1):\n",
      "STOP: TOTAL NO. of ITERATIONS REACHED LIMIT.\n",
      "\n",
      "Increase the number of iterations (max_iter) or scale the data as shown in:\n",
      "    https://scikit-learn.org/stable/modules/preprocessing.html\n",
      "Please also refer to the documentation for alternative solver options:\n",
      "    https://scikit-learn.org/stable/modules/linear_model.html#logistic-regression\n",
      "  n_iter_i = _check_optimize_result(\n"
     ]
    },
    {
     "name": "stdout",
     "output_type": "stream",
     "text": [
      "logit empo_2 taxonomy_0\n",
      "logit empo_2 taxonomy_1\n"
     ]
    },
    {
     "name": "stderr",
     "output_type": "stream",
     "text": [
      "/home/toc/.local/lib/python3.10/site-packages/sklearn/linear_model/_logistic.py:444: ConvergenceWarning: lbfgs failed to converge (status=1):\n",
      "STOP: TOTAL NO. of ITERATIONS REACHED LIMIT.\n",
      "\n",
      "Increase the number of iterations (max_iter) or scale the data as shown in:\n",
      "    https://scikit-learn.org/stable/modules/preprocessing.html\n",
      "Please also refer to the documentation for alternative solver options:\n",
      "    https://scikit-learn.org/stable/modules/linear_model.html#logistic-regression\n",
      "  n_iter_i = _check_optimize_result(\n",
      "/home/toc/.local/lib/python3.10/site-packages/sklearn/linear_model/_logistic.py:444: ConvergenceWarning: lbfgs failed to converge (status=1):\n",
      "STOP: TOTAL NO. of ITERATIONS REACHED LIMIT.\n",
      "\n",
      "Increase the number of iterations (max_iter) or scale the data as shown in:\n",
      "    https://scikit-learn.org/stable/modules/preprocessing.html\n",
      "Please also refer to the documentation for alternative solver options:\n",
      "    https://scikit-learn.org/stable/modules/linear_model.html#logistic-regression\n",
      "  n_iter_i = _check_optimize_result(\n",
      "/home/toc/.local/lib/python3.10/site-packages/sklearn/linear_model/_logistic.py:444: ConvergenceWarning: lbfgs failed to converge (status=1):\n",
      "STOP: TOTAL NO. of ITERATIONS REACHED LIMIT.\n",
      "\n",
      "Increase the number of iterations (max_iter) or scale the data as shown in:\n",
      "    https://scikit-learn.org/stable/modules/preprocessing.html\n",
      "Please also refer to the documentation for alternative solver options:\n",
      "    https://scikit-learn.org/stable/modules/linear_model.html#logistic-regression\n",
      "  n_iter_i = _check_optimize_result(\n",
      "/home/toc/.local/lib/python3.10/site-packages/sklearn/linear_model/_logistic.py:444: ConvergenceWarning: lbfgs failed to converge (status=1):\n",
      "STOP: TOTAL NO. of ITERATIONS REACHED LIMIT.\n",
      "\n",
      "Increase the number of iterations (max_iter) or scale the data as shown in:\n",
      "    https://scikit-learn.org/stable/modules/preprocessing.html\n",
      "Please also refer to the documentation for alternative solver options:\n",
      "    https://scikit-learn.org/stable/modules/linear_model.html#logistic-regression\n",
      "  n_iter_i = _check_optimize_result(\n",
      "/home/toc/.local/lib/python3.10/site-packages/sklearn/linear_model/_logistic.py:444: ConvergenceWarning: lbfgs failed to converge (status=1):\n",
      "STOP: TOTAL NO. of ITERATIONS REACHED LIMIT.\n",
      "\n",
      "Increase the number of iterations (max_iter) or scale the data as shown in:\n",
      "    https://scikit-learn.org/stable/modules/preprocessing.html\n",
      "Please also refer to the documentation for alternative solver options:\n",
      "    https://scikit-learn.org/stable/modules/linear_model.html#logistic-regression\n",
      "  n_iter_i = _check_optimize_result(\n"
     ]
    },
    {
     "name": "stdout",
     "output_type": "stream",
     "text": [
      "logit empo_2 taxonomy_2\n"
     ]
    },
    {
     "name": "stderr",
     "output_type": "stream",
     "text": [
      "/home/toc/.local/lib/python3.10/site-packages/sklearn/linear_model/_logistic.py:444: ConvergenceWarning: lbfgs failed to converge (status=1):\n",
      "STOP: TOTAL NO. of ITERATIONS REACHED LIMIT.\n",
      "\n",
      "Increase the number of iterations (max_iter) or scale the data as shown in:\n",
      "    https://scikit-learn.org/stable/modules/preprocessing.html\n",
      "Please also refer to the documentation for alternative solver options:\n",
      "    https://scikit-learn.org/stable/modules/linear_model.html#logistic-regression\n",
      "  n_iter_i = _check_optimize_result(\n",
      "/home/toc/.local/lib/python3.10/site-packages/sklearn/linear_model/_logistic.py:444: ConvergenceWarning: lbfgs failed to converge (status=1):\n",
      "STOP: TOTAL NO. of ITERATIONS REACHED LIMIT.\n",
      "\n",
      "Increase the number of iterations (max_iter) or scale the data as shown in:\n",
      "    https://scikit-learn.org/stable/modules/preprocessing.html\n",
      "Please also refer to the documentation for alternative solver options:\n",
      "    https://scikit-learn.org/stable/modules/linear_model.html#logistic-regression\n",
      "  n_iter_i = _check_optimize_result(\n",
      "/home/toc/.local/lib/python3.10/site-packages/sklearn/linear_model/_logistic.py:444: ConvergenceWarning: lbfgs failed to converge (status=1):\n",
      "STOP: TOTAL NO. of ITERATIONS REACHED LIMIT.\n",
      "\n",
      "Increase the number of iterations (max_iter) or scale the data as shown in:\n",
      "    https://scikit-learn.org/stable/modules/preprocessing.html\n",
      "Please also refer to the documentation for alternative solver options:\n",
      "    https://scikit-learn.org/stable/modules/linear_model.html#logistic-regression\n",
      "  n_iter_i = _check_optimize_result(\n",
      "/home/toc/.local/lib/python3.10/site-packages/sklearn/linear_model/_logistic.py:444: ConvergenceWarning: lbfgs failed to converge (status=1):\n",
      "STOP: TOTAL NO. of ITERATIONS REACHED LIMIT.\n",
      "\n",
      "Increase the number of iterations (max_iter) or scale the data as shown in:\n",
      "    https://scikit-learn.org/stable/modules/preprocessing.html\n",
      "Please also refer to the documentation for alternative solver options:\n",
      "    https://scikit-learn.org/stable/modules/linear_model.html#logistic-regression\n",
      "  n_iter_i = _check_optimize_result(\n",
      "/home/toc/.local/lib/python3.10/site-packages/sklearn/linear_model/_logistic.py:444: ConvergenceWarning: lbfgs failed to converge (status=1):\n",
      "STOP: TOTAL NO. of ITERATIONS REACHED LIMIT.\n",
      "\n",
      "Increase the number of iterations (max_iter) or scale the data as shown in:\n",
      "    https://scikit-learn.org/stable/modules/preprocessing.html\n",
      "Please also refer to the documentation for alternative solver options:\n",
      "    https://scikit-learn.org/stable/modules/linear_model.html#logistic-regression\n",
      "  n_iter_i = _check_optimize_result(\n"
     ]
    },
    {
     "name": "stdout",
     "output_type": "stream",
     "text": [
      "logit empo_2 taxonomy_3\n"
     ]
    },
    {
     "name": "stderr",
     "output_type": "stream",
     "text": [
      "/home/toc/.local/lib/python3.10/site-packages/sklearn/linear_model/_logistic.py:444: ConvergenceWarning: lbfgs failed to converge (status=1):\n",
      "STOP: TOTAL NO. of ITERATIONS REACHED LIMIT.\n",
      "\n",
      "Increase the number of iterations (max_iter) or scale the data as shown in:\n",
      "    https://scikit-learn.org/stable/modules/preprocessing.html\n",
      "Please also refer to the documentation for alternative solver options:\n",
      "    https://scikit-learn.org/stable/modules/linear_model.html#logistic-regression\n",
      "  n_iter_i = _check_optimize_result(\n",
      "/home/toc/.local/lib/python3.10/site-packages/sklearn/linear_model/_logistic.py:444: ConvergenceWarning: lbfgs failed to converge (status=1):\n",
      "STOP: TOTAL NO. of ITERATIONS REACHED LIMIT.\n",
      "\n",
      "Increase the number of iterations (max_iter) or scale the data as shown in:\n",
      "    https://scikit-learn.org/stable/modules/preprocessing.html\n",
      "Please also refer to the documentation for alternative solver options:\n",
      "    https://scikit-learn.org/stable/modules/linear_model.html#logistic-regression\n",
      "  n_iter_i = _check_optimize_result(\n",
      "/home/toc/.local/lib/python3.10/site-packages/sklearn/linear_model/_logistic.py:444: ConvergenceWarning: lbfgs failed to converge (status=1):\n",
      "STOP: TOTAL NO. of ITERATIONS REACHED LIMIT.\n",
      "\n",
      "Increase the number of iterations (max_iter) or scale the data as shown in:\n",
      "    https://scikit-learn.org/stable/modules/preprocessing.html\n",
      "Please also refer to the documentation for alternative solver options:\n",
      "    https://scikit-learn.org/stable/modules/linear_model.html#logistic-regression\n",
      "  n_iter_i = _check_optimize_result(\n",
      "/home/toc/.local/lib/python3.10/site-packages/sklearn/linear_model/_logistic.py:444: ConvergenceWarning: lbfgs failed to converge (status=1):\n",
      "STOP: TOTAL NO. of ITERATIONS REACHED LIMIT.\n",
      "\n",
      "Increase the number of iterations (max_iter) or scale the data as shown in:\n",
      "    https://scikit-learn.org/stable/modules/preprocessing.html\n",
      "Please also refer to the documentation for alternative solver options:\n",
      "    https://scikit-learn.org/stable/modules/linear_model.html#logistic-regression\n",
      "  n_iter_i = _check_optimize_result(\n",
      "/home/toc/.local/lib/python3.10/site-packages/sklearn/linear_model/_logistic.py:444: ConvergenceWarning: lbfgs failed to converge (status=1):\n",
      "STOP: TOTAL NO. of ITERATIONS REACHED LIMIT.\n",
      "\n",
      "Increase the number of iterations (max_iter) or scale the data as shown in:\n",
      "    https://scikit-learn.org/stable/modules/preprocessing.html\n",
      "Please also refer to the documentation for alternative solver options:\n",
      "    https://scikit-learn.org/stable/modules/linear_model.html#logistic-regression\n",
      "  n_iter_i = _check_optimize_result(\n"
     ]
    },
    {
     "name": "stdout",
     "output_type": "stream",
     "text": [
      "logit empo_2 taxonomy_4\n"
     ]
    },
    {
     "name": "stderr",
     "output_type": "stream",
     "text": [
      "/home/toc/.local/lib/python3.10/site-packages/sklearn/linear_model/_logistic.py:444: ConvergenceWarning: lbfgs failed to converge (status=1):\n",
      "STOP: TOTAL NO. of ITERATIONS REACHED LIMIT.\n",
      "\n",
      "Increase the number of iterations (max_iter) or scale the data as shown in:\n",
      "    https://scikit-learn.org/stable/modules/preprocessing.html\n",
      "Please also refer to the documentation for alternative solver options:\n",
      "    https://scikit-learn.org/stable/modules/linear_model.html#logistic-regression\n",
      "  n_iter_i = _check_optimize_result(\n",
      "/home/toc/.local/lib/python3.10/site-packages/sklearn/linear_model/_logistic.py:444: ConvergenceWarning: lbfgs failed to converge (status=1):\n",
      "STOP: TOTAL NO. of ITERATIONS REACHED LIMIT.\n",
      "\n",
      "Increase the number of iterations (max_iter) or scale the data as shown in:\n",
      "    https://scikit-learn.org/stable/modules/preprocessing.html\n",
      "Please also refer to the documentation for alternative solver options:\n",
      "    https://scikit-learn.org/stable/modules/linear_model.html#logistic-regression\n",
      "  n_iter_i = _check_optimize_result(\n",
      "/home/toc/.local/lib/python3.10/site-packages/sklearn/linear_model/_logistic.py:444: ConvergenceWarning: lbfgs failed to converge (status=1):\n",
      "STOP: TOTAL NO. of ITERATIONS REACHED LIMIT.\n",
      "\n",
      "Increase the number of iterations (max_iter) or scale the data as shown in:\n",
      "    https://scikit-learn.org/stable/modules/preprocessing.html\n",
      "Please also refer to the documentation for alternative solver options:\n",
      "    https://scikit-learn.org/stable/modules/linear_model.html#logistic-regression\n",
      "  n_iter_i = _check_optimize_result(\n",
      "/home/toc/.local/lib/python3.10/site-packages/sklearn/linear_model/_logistic.py:444: ConvergenceWarning: lbfgs failed to converge (status=1):\n",
      "STOP: TOTAL NO. of ITERATIONS REACHED LIMIT.\n",
      "\n",
      "Increase the number of iterations (max_iter) or scale the data as shown in:\n",
      "    https://scikit-learn.org/stable/modules/preprocessing.html\n",
      "Please also refer to the documentation for alternative solver options:\n",
      "    https://scikit-learn.org/stable/modules/linear_model.html#logistic-regression\n",
      "  n_iter_i = _check_optimize_result(\n",
      "/home/toc/.local/lib/python3.10/site-packages/sklearn/linear_model/_logistic.py:444: ConvergenceWarning: lbfgs failed to converge (status=1):\n",
      "STOP: TOTAL NO. of ITERATIONS REACHED LIMIT.\n",
      "\n",
      "Increase the number of iterations (max_iter) or scale the data as shown in:\n",
      "    https://scikit-learn.org/stable/modules/preprocessing.html\n",
      "Please also refer to the documentation for alternative solver options:\n",
      "    https://scikit-learn.org/stable/modules/linear_model.html#logistic-regression\n",
      "  n_iter_i = _check_optimize_result(\n"
     ]
    },
    {
     "name": "stdout",
     "output_type": "stream",
     "text": [
      "logit empo_2 taxonomy_5\n"
     ]
    },
    {
     "name": "stderr",
     "output_type": "stream",
     "text": [
      "/home/toc/.local/lib/python3.10/site-packages/sklearn/linear_model/_logistic.py:444: ConvergenceWarning: lbfgs failed to converge (status=1):\n",
      "STOP: TOTAL NO. of ITERATIONS REACHED LIMIT.\n",
      "\n",
      "Increase the number of iterations (max_iter) or scale the data as shown in:\n",
      "    https://scikit-learn.org/stable/modules/preprocessing.html\n",
      "Please also refer to the documentation for alternative solver options:\n",
      "    https://scikit-learn.org/stable/modules/linear_model.html#logistic-regression\n",
      "  n_iter_i = _check_optimize_result(\n",
      "/home/toc/.local/lib/python3.10/site-packages/sklearn/linear_model/_logistic.py:444: ConvergenceWarning: lbfgs failed to converge (status=1):\n",
      "STOP: TOTAL NO. of ITERATIONS REACHED LIMIT.\n",
      "\n",
      "Increase the number of iterations (max_iter) or scale the data as shown in:\n",
      "    https://scikit-learn.org/stable/modules/preprocessing.html\n",
      "Please also refer to the documentation for alternative solver options:\n",
      "    https://scikit-learn.org/stable/modules/linear_model.html#logistic-regression\n",
      "  n_iter_i = _check_optimize_result(\n",
      "/home/toc/.local/lib/python3.10/site-packages/sklearn/linear_model/_logistic.py:444: ConvergenceWarning: lbfgs failed to converge (status=1):\n",
      "STOP: TOTAL NO. of ITERATIONS REACHED LIMIT.\n",
      "\n",
      "Increase the number of iterations (max_iter) or scale the data as shown in:\n",
      "    https://scikit-learn.org/stable/modules/preprocessing.html\n",
      "Please also refer to the documentation for alternative solver options:\n",
      "    https://scikit-learn.org/stable/modules/linear_model.html#logistic-regression\n",
      "  n_iter_i = _check_optimize_result(\n",
      "/home/toc/.local/lib/python3.10/site-packages/sklearn/linear_model/_logistic.py:444: ConvergenceWarning: lbfgs failed to converge (status=1):\n",
      "STOP: TOTAL NO. of ITERATIONS REACHED LIMIT.\n",
      "\n",
      "Increase the number of iterations (max_iter) or scale the data as shown in:\n",
      "    https://scikit-learn.org/stable/modules/preprocessing.html\n",
      "Please also refer to the documentation for alternative solver options:\n",
      "    https://scikit-learn.org/stable/modules/linear_model.html#logistic-regression\n",
      "  n_iter_i = _check_optimize_result(\n",
      "/home/toc/.local/lib/python3.10/site-packages/sklearn/linear_model/_logistic.py:444: ConvergenceWarning: lbfgs failed to converge (status=1):\n",
      "STOP: TOTAL NO. of ITERATIONS REACHED LIMIT.\n",
      "\n",
      "Increase the number of iterations (max_iter) or scale the data as shown in:\n",
      "    https://scikit-learn.org/stable/modules/preprocessing.html\n",
      "Please also refer to the documentation for alternative solver options:\n",
      "    https://scikit-learn.org/stable/modules/linear_model.html#logistic-regression\n",
      "  n_iter_i = _check_optimize_result(\n"
     ]
    },
    {
     "name": "stdout",
     "output_type": "stream",
     "text": [
      "logit empo_2 taxonomy_6\n"
     ]
    },
    {
     "name": "stderr",
     "output_type": "stream",
     "text": [
      "/home/toc/.local/lib/python3.10/site-packages/sklearn/linear_model/_logistic.py:444: ConvergenceWarning: lbfgs failed to converge (status=1):\n",
      "STOP: TOTAL NO. of ITERATIONS REACHED LIMIT.\n",
      "\n",
      "Increase the number of iterations (max_iter) or scale the data as shown in:\n",
      "    https://scikit-learn.org/stable/modules/preprocessing.html\n",
      "Please also refer to the documentation for alternative solver options:\n",
      "    https://scikit-learn.org/stable/modules/linear_model.html#logistic-regression\n",
      "  n_iter_i = _check_optimize_result(\n",
      "/home/toc/.local/lib/python3.10/site-packages/sklearn/linear_model/_logistic.py:444: ConvergenceWarning: lbfgs failed to converge (status=1):\n",
      "STOP: TOTAL NO. of ITERATIONS REACHED LIMIT.\n",
      "\n",
      "Increase the number of iterations (max_iter) or scale the data as shown in:\n",
      "    https://scikit-learn.org/stable/modules/preprocessing.html\n",
      "Please also refer to the documentation for alternative solver options:\n",
      "    https://scikit-learn.org/stable/modules/linear_model.html#logistic-regression\n",
      "  n_iter_i = _check_optimize_result(\n",
      "/home/toc/.local/lib/python3.10/site-packages/sklearn/linear_model/_logistic.py:444: ConvergenceWarning: lbfgs failed to converge (status=1):\n",
      "STOP: TOTAL NO. of ITERATIONS REACHED LIMIT.\n",
      "\n",
      "Increase the number of iterations (max_iter) or scale the data as shown in:\n",
      "    https://scikit-learn.org/stable/modules/preprocessing.html\n",
      "Please also refer to the documentation for alternative solver options:\n",
      "    https://scikit-learn.org/stable/modules/linear_model.html#logistic-regression\n",
      "  n_iter_i = _check_optimize_result(\n",
      "/home/toc/.local/lib/python3.10/site-packages/sklearn/linear_model/_logistic.py:444: ConvergenceWarning: lbfgs failed to converge (status=1):\n",
      "STOP: TOTAL NO. of ITERATIONS REACHED LIMIT.\n",
      "\n",
      "Increase the number of iterations (max_iter) or scale the data as shown in:\n",
      "    https://scikit-learn.org/stable/modules/preprocessing.html\n",
      "Please also refer to the documentation for alternative solver options:\n",
      "    https://scikit-learn.org/stable/modules/linear_model.html#logistic-regression\n",
      "  n_iter_i = _check_optimize_result(\n",
      "/home/toc/.local/lib/python3.10/site-packages/sklearn/linear_model/_logistic.py:444: ConvergenceWarning: lbfgs failed to converge (status=1):\n",
      "STOP: TOTAL NO. of ITERATIONS REACHED LIMIT.\n",
      "\n",
      "Increase the number of iterations (max_iter) or scale the data as shown in:\n",
      "    https://scikit-learn.org/stable/modules/preprocessing.html\n",
      "Please also refer to the documentation for alternative solver options:\n",
      "    https://scikit-learn.org/stable/modules/linear_model.html#logistic-regression\n",
      "  n_iter_i = _check_optimize_result(\n"
     ]
    },
    {
     "name": "stdout",
     "output_type": "stream",
     "text": [
      "logit empo_2 desc\n"
     ]
    },
    {
     "name": "stderr",
     "output_type": "stream",
     "text": [
      "/home/toc/.local/lib/python3.10/site-packages/sklearn/linear_model/_logistic.py:444: ConvergenceWarning: lbfgs failed to converge (status=1):\n",
      "STOP: TOTAL NO. of ITERATIONS REACHED LIMIT.\n",
      "\n",
      "Increase the number of iterations (max_iter) or scale the data as shown in:\n",
      "    https://scikit-learn.org/stable/modules/preprocessing.html\n",
      "Please also refer to the documentation for alternative solver options:\n",
      "    https://scikit-learn.org/stable/modules/linear_model.html#logistic-regression\n",
      "  n_iter_i = _check_optimize_result(\n",
      "/home/toc/.local/lib/python3.10/site-packages/sklearn/linear_model/_logistic.py:444: ConvergenceWarning: lbfgs failed to converge (status=1):\n",
      "STOP: TOTAL NO. of ITERATIONS REACHED LIMIT.\n",
      "\n",
      "Increase the number of iterations (max_iter) or scale the data as shown in:\n",
      "    https://scikit-learn.org/stable/modules/preprocessing.html\n",
      "Please also refer to the documentation for alternative solver options:\n",
      "    https://scikit-learn.org/stable/modules/linear_model.html#logistic-regression\n",
      "  n_iter_i = _check_optimize_result(\n",
      "/home/toc/.local/lib/python3.10/site-packages/sklearn/linear_model/_logistic.py:444: ConvergenceWarning: lbfgs failed to converge (status=1):\n",
      "STOP: TOTAL NO. of ITERATIONS REACHED LIMIT.\n",
      "\n",
      "Increase the number of iterations (max_iter) or scale the data as shown in:\n",
      "    https://scikit-learn.org/stable/modules/preprocessing.html\n",
      "Please also refer to the documentation for alternative solver options:\n",
      "    https://scikit-learn.org/stable/modules/linear_model.html#logistic-regression\n",
      "  n_iter_i = _check_optimize_result(\n",
      "/home/toc/.local/lib/python3.10/site-packages/sklearn/linear_model/_logistic.py:444: ConvergenceWarning: lbfgs failed to converge (status=1):\n",
      "STOP: TOTAL NO. of ITERATIONS REACHED LIMIT.\n",
      "\n",
      "Increase the number of iterations (max_iter) or scale the data as shown in:\n",
      "    https://scikit-learn.org/stable/modules/preprocessing.html\n",
      "Please also refer to the documentation for alternative solver options:\n",
      "    https://scikit-learn.org/stable/modules/linear_model.html#logistic-regression\n",
      "  n_iter_i = _check_optimize_result(\n",
      "/home/toc/.local/lib/python3.10/site-packages/sklearn/linear_model/_logistic.py:444: ConvergenceWarning: lbfgs failed to converge (status=1):\n",
      "STOP: TOTAL NO. of ITERATIONS REACHED LIMIT.\n",
      "\n",
      "Increase the number of iterations (max_iter) or scale the data as shown in:\n",
      "    https://scikit-learn.org/stable/modules/preprocessing.html\n",
      "Please also refer to the documentation for alternative solver options:\n",
      "    https://scikit-learn.org/stable/modules/linear_model.html#logistic-regression\n",
      "  n_iter_i = _check_optimize_result(\n"
     ]
    },
    {
     "name": "stdout",
     "output_type": "stream",
     "text": [
      "logit empo_3 taxonomy_0\n",
      "logit empo_3 taxonomy_1\n"
     ]
    },
    {
     "name": "stderr",
     "output_type": "stream",
     "text": [
      "/home/toc/.local/lib/python3.10/site-packages/sklearn/linear_model/_logistic.py:444: ConvergenceWarning: lbfgs failed to converge (status=1):\n",
      "STOP: TOTAL NO. of ITERATIONS REACHED LIMIT.\n",
      "\n",
      "Increase the number of iterations (max_iter) or scale the data as shown in:\n",
      "    https://scikit-learn.org/stable/modules/preprocessing.html\n",
      "Please also refer to the documentation for alternative solver options:\n",
      "    https://scikit-learn.org/stable/modules/linear_model.html#logistic-regression\n",
      "  n_iter_i = _check_optimize_result(\n",
      "/home/toc/.local/lib/python3.10/site-packages/sklearn/linear_model/_logistic.py:444: ConvergenceWarning: lbfgs failed to converge (status=1):\n",
      "STOP: TOTAL NO. of ITERATIONS REACHED LIMIT.\n",
      "\n",
      "Increase the number of iterations (max_iter) or scale the data as shown in:\n",
      "    https://scikit-learn.org/stable/modules/preprocessing.html\n",
      "Please also refer to the documentation for alternative solver options:\n",
      "    https://scikit-learn.org/stable/modules/linear_model.html#logistic-regression\n",
      "  n_iter_i = _check_optimize_result(\n",
      "/home/toc/.local/lib/python3.10/site-packages/sklearn/linear_model/_logistic.py:444: ConvergenceWarning: lbfgs failed to converge (status=1):\n",
      "STOP: TOTAL NO. of ITERATIONS REACHED LIMIT.\n",
      "\n",
      "Increase the number of iterations (max_iter) or scale the data as shown in:\n",
      "    https://scikit-learn.org/stable/modules/preprocessing.html\n",
      "Please also refer to the documentation for alternative solver options:\n",
      "    https://scikit-learn.org/stable/modules/linear_model.html#logistic-regression\n",
      "  n_iter_i = _check_optimize_result(\n",
      "/home/toc/.local/lib/python3.10/site-packages/sklearn/linear_model/_logistic.py:444: ConvergenceWarning: lbfgs failed to converge (status=1):\n",
      "STOP: TOTAL NO. of ITERATIONS REACHED LIMIT.\n",
      "\n",
      "Increase the number of iterations (max_iter) or scale the data as shown in:\n",
      "    https://scikit-learn.org/stable/modules/preprocessing.html\n",
      "Please also refer to the documentation for alternative solver options:\n",
      "    https://scikit-learn.org/stable/modules/linear_model.html#logistic-regression\n",
      "  n_iter_i = _check_optimize_result(\n",
      "/home/toc/.local/lib/python3.10/site-packages/sklearn/linear_model/_logistic.py:444: ConvergenceWarning: lbfgs failed to converge (status=1):\n",
      "STOP: TOTAL NO. of ITERATIONS REACHED LIMIT.\n",
      "\n",
      "Increase the number of iterations (max_iter) or scale the data as shown in:\n",
      "    https://scikit-learn.org/stable/modules/preprocessing.html\n",
      "Please also refer to the documentation for alternative solver options:\n",
      "    https://scikit-learn.org/stable/modules/linear_model.html#logistic-regression\n",
      "  n_iter_i = _check_optimize_result(\n"
     ]
    },
    {
     "name": "stdout",
     "output_type": "stream",
     "text": [
      "logit empo_3 taxonomy_2\n"
     ]
    },
    {
     "name": "stderr",
     "output_type": "stream",
     "text": [
      "/home/toc/.local/lib/python3.10/site-packages/sklearn/linear_model/_logistic.py:444: ConvergenceWarning: lbfgs failed to converge (status=1):\n",
      "STOP: TOTAL NO. of ITERATIONS REACHED LIMIT.\n",
      "\n",
      "Increase the number of iterations (max_iter) or scale the data as shown in:\n",
      "    https://scikit-learn.org/stable/modules/preprocessing.html\n",
      "Please also refer to the documentation for alternative solver options:\n",
      "    https://scikit-learn.org/stable/modules/linear_model.html#logistic-regression\n",
      "  n_iter_i = _check_optimize_result(\n",
      "/home/toc/.local/lib/python3.10/site-packages/sklearn/linear_model/_logistic.py:444: ConvergenceWarning: lbfgs failed to converge (status=1):\n",
      "STOP: TOTAL NO. of ITERATIONS REACHED LIMIT.\n",
      "\n",
      "Increase the number of iterations (max_iter) or scale the data as shown in:\n",
      "    https://scikit-learn.org/stable/modules/preprocessing.html\n",
      "Please also refer to the documentation for alternative solver options:\n",
      "    https://scikit-learn.org/stable/modules/linear_model.html#logistic-regression\n",
      "  n_iter_i = _check_optimize_result(\n",
      "/home/toc/.local/lib/python3.10/site-packages/sklearn/linear_model/_logistic.py:444: ConvergenceWarning: lbfgs failed to converge (status=1):\n",
      "STOP: TOTAL NO. of ITERATIONS REACHED LIMIT.\n",
      "\n",
      "Increase the number of iterations (max_iter) or scale the data as shown in:\n",
      "    https://scikit-learn.org/stable/modules/preprocessing.html\n",
      "Please also refer to the documentation for alternative solver options:\n",
      "    https://scikit-learn.org/stable/modules/linear_model.html#logistic-regression\n",
      "  n_iter_i = _check_optimize_result(\n",
      "/home/toc/.local/lib/python3.10/site-packages/sklearn/linear_model/_logistic.py:444: ConvergenceWarning: lbfgs failed to converge (status=1):\n",
      "STOP: TOTAL NO. of ITERATIONS REACHED LIMIT.\n",
      "\n",
      "Increase the number of iterations (max_iter) or scale the data as shown in:\n",
      "    https://scikit-learn.org/stable/modules/preprocessing.html\n",
      "Please also refer to the documentation for alternative solver options:\n",
      "    https://scikit-learn.org/stable/modules/linear_model.html#logistic-regression\n",
      "  n_iter_i = _check_optimize_result(\n",
      "/home/toc/.local/lib/python3.10/site-packages/sklearn/linear_model/_logistic.py:444: ConvergenceWarning: lbfgs failed to converge (status=1):\n",
      "STOP: TOTAL NO. of ITERATIONS REACHED LIMIT.\n",
      "\n",
      "Increase the number of iterations (max_iter) or scale the data as shown in:\n",
      "    https://scikit-learn.org/stable/modules/preprocessing.html\n",
      "Please also refer to the documentation for alternative solver options:\n",
      "    https://scikit-learn.org/stable/modules/linear_model.html#logistic-regression\n",
      "  n_iter_i = _check_optimize_result(\n"
     ]
    },
    {
     "name": "stdout",
     "output_type": "stream",
     "text": [
      "logit empo_3 taxonomy_3\n"
     ]
    },
    {
     "name": "stderr",
     "output_type": "stream",
     "text": [
      "/home/toc/.local/lib/python3.10/site-packages/sklearn/linear_model/_logistic.py:444: ConvergenceWarning: lbfgs failed to converge (status=1):\n",
      "STOP: TOTAL NO. of ITERATIONS REACHED LIMIT.\n",
      "\n",
      "Increase the number of iterations (max_iter) or scale the data as shown in:\n",
      "    https://scikit-learn.org/stable/modules/preprocessing.html\n",
      "Please also refer to the documentation for alternative solver options:\n",
      "    https://scikit-learn.org/stable/modules/linear_model.html#logistic-regression\n",
      "  n_iter_i = _check_optimize_result(\n",
      "/home/toc/.local/lib/python3.10/site-packages/sklearn/linear_model/_logistic.py:444: ConvergenceWarning: lbfgs failed to converge (status=1):\n",
      "STOP: TOTAL NO. of ITERATIONS REACHED LIMIT.\n",
      "\n",
      "Increase the number of iterations (max_iter) or scale the data as shown in:\n",
      "    https://scikit-learn.org/stable/modules/preprocessing.html\n",
      "Please also refer to the documentation for alternative solver options:\n",
      "    https://scikit-learn.org/stable/modules/linear_model.html#logistic-regression\n",
      "  n_iter_i = _check_optimize_result(\n",
      "/home/toc/.local/lib/python3.10/site-packages/sklearn/linear_model/_logistic.py:444: ConvergenceWarning: lbfgs failed to converge (status=1):\n",
      "STOP: TOTAL NO. of ITERATIONS REACHED LIMIT.\n",
      "\n",
      "Increase the number of iterations (max_iter) or scale the data as shown in:\n",
      "    https://scikit-learn.org/stable/modules/preprocessing.html\n",
      "Please also refer to the documentation for alternative solver options:\n",
      "    https://scikit-learn.org/stable/modules/linear_model.html#logistic-regression\n",
      "  n_iter_i = _check_optimize_result(\n",
      "/home/toc/.local/lib/python3.10/site-packages/sklearn/linear_model/_logistic.py:444: ConvergenceWarning: lbfgs failed to converge (status=1):\n",
      "STOP: TOTAL NO. of ITERATIONS REACHED LIMIT.\n",
      "\n",
      "Increase the number of iterations (max_iter) or scale the data as shown in:\n",
      "    https://scikit-learn.org/stable/modules/preprocessing.html\n",
      "Please also refer to the documentation for alternative solver options:\n",
      "    https://scikit-learn.org/stable/modules/linear_model.html#logistic-regression\n",
      "  n_iter_i = _check_optimize_result(\n",
      "/home/toc/.local/lib/python3.10/site-packages/sklearn/linear_model/_logistic.py:444: ConvergenceWarning: lbfgs failed to converge (status=1):\n",
      "STOP: TOTAL NO. of ITERATIONS REACHED LIMIT.\n",
      "\n",
      "Increase the number of iterations (max_iter) or scale the data as shown in:\n",
      "    https://scikit-learn.org/stable/modules/preprocessing.html\n",
      "Please also refer to the documentation for alternative solver options:\n",
      "    https://scikit-learn.org/stable/modules/linear_model.html#logistic-regression\n",
      "  n_iter_i = _check_optimize_result(\n"
     ]
    },
    {
     "name": "stdout",
     "output_type": "stream",
     "text": [
      "logit empo_3 taxonomy_4\n"
     ]
    },
    {
     "name": "stderr",
     "output_type": "stream",
     "text": [
      "/home/toc/.local/lib/python3.10/site-packages/sklearn/linear_model/_logistic.py:444: ConvergenceWarning: lbfgs failed to converge (status=1):\n",
      "STOP: TOTAL NO. of ITERATIONS REACHED LIMIT.\n",
      "\n",
      "Increase the number of iterations (max_iter) or scale the data as shown in:\n",
      "    https://scikit-learn.org/stable/modules/preprocessing.html\n",
      "Please also refer to the documentation for alternative solver options:\n",
      "    https://scikit-learn.org/stable/modules/linear_model.html#logistic-regression\n",
      "  n_iter_i = _check_optimize_result(\n",
      "/home/toc/.local/lib/python3.10/site-packages/sklearn/linear_model/_logistic.py:444: ConvergenceWarning: lbfgs failed to converge (status=1):\n",
      "STOP: TOTAL NO. of ITERATIONS REACHED LIMIT.\n",
      "\n",
      "Increase the number of iterations (max_iter) or scale the data as shown in:\n",
      "    https://scikit-learn.org/stable/modules/preprocessing.html\n",
      "Please also refer to the documentation for alternative solver options:\n",
      "    https://scikit-learn.org/stable/modules/linear_model.html#logistic-regression\n",
      "  n_iter_i = _check_optimize_result(\n",
      "/home/toc/.local/lib/python3.10/site-packages/sklearn/linear_model/_logistic.py:444: ConvergenceWarning: lbfgs failed to converge (status=1):\n",
      "STOP: TOTAL NO. of ITERATIONS REACHED LIMIT.\n",
      "\n",
      "Increase the number of iterations (max_iter) or scale the data as shown in:\n",
      "    https://scikit-learn.org/stable/modules/preprocessing.html\n",
      "Please also refer to the documentation for alternative solver options:\n",
      "    https://scikit-learn.org/stable/modules/linear_model.html#logistic-regression\n",
      "  n_iter_i = _check_optimize_result(\n",
      "/home/toc/.local/lib/python3.10/site-packages/sklearn/linear_model/_logistic.py:444: ConvergenceWarning: lbfgs failed to converge (status=1):\n",
      "STOP: TOTAL NO. of ITERATIONS REACHED LIMIT.\n",
      "\n",
      "Increase the number of iterations (max_iter) or scale the data as shown in:\n",
      "    https://scikit-learn.org/stable/modules/preprocessing.html\n",
      "Please also refer to the documentation for alternative solver options:\n",
      "    https://scikit-learn.org/stable/modules/linear_model.html#logistic-regression\n",
      "  n_iter_i = _check_optimize_result(\n",
      "/home/toc/.local/lib/python3.10/site-packages/sklearn/linear_model/_logistic.py:444: ConvergenceWarning: lbfgs failed to converge (status=1):\n",
      "STOP: TOTAL NO. of ITERATIONS REACHED LIMIT.\n",
      "\n",
      "Increase the number of iterations (max_iter) or scale the data as shown in:\n",
      "    https://scikit-learn.org/stable/modules/preprocessing.html\n",
      "Please also refer to the documentation for alternative solver options:\n",
      "    https://scikit-learn.org/stable/modules/linear_model.html#logistic-regression\n",
      "  n_iter_i = _check_optimize_result(\n"
     ]
    },
    {
     "name": "stdout",
     "output_type": "stream",
     "text": [
      "logit empo_3 taxonomy_5\n"
     ]
    },
    {
     "name": "stderr",
     "output_type": "stream",
     "text": [
      "/home/toc/.local/lib/python3.10/site-packages/sklearn/linear_model/_logistic.py:444: ConvergenceWarning: lbfgs failed to converge (status=1):\n",
      "STOP: TOTAL NO. of ITERATIONS REACHED LIMIT.\n",
      "\n",
      "Increase the number of iterations (max_iter) or scale the data as shown in:\n",
      "    https://scikit-learn.org/stable/modules/preprocessing.html\n",
      "Please also refer to the documentation for alternative solver options:\n",
      "    https://scikit-learn.org/stable/modules/linear_model.html#logistic-regression\n",
      "  n_iter_i = _check_optimize_result(\n",
      "/home/toc/.local/lib/python3.10/site-packages/sklearn/linear_model/_logistic.py:444: ConvergenceWarning: lbfgs failed to converge (status=1):\n",
      "STOP: TOTAL NO. of ITERATIONS REACHED LIMIT.\n",
      "\n",
      "Increase the number of iterations (max_iter) or scale the data as shown in:\n",
      "    https://scikit-learn.org/stable/modules/preprocessing.html\n",
      "Please also refer to the documentation for alternative solver options:\n",
      "    https://scikit-learn.org/stable/modules/linear_model.html#logistic-regression\n",
      "  n_iter_i = _check_optimize_result(\n",
      "/home/toc/.local/lib/python3.10/site-packages/sklearn/linear_model/_logistic.py:444: ConvergenceWarning: lbfgs failed to converge (status=1):\n",
      "STOP: TOTAL NO. of ITERATIONS REACHED LIMIT.\n",
      "\n",
      "Increase the number of iterations (max_iter) or scale the data as shown in:\n",
      "    https://scikit-learn.org/stable/modules/preprocessing.html\n",
      "Please also refer to the documentation for alternative solver options:\n",
      "    https://scikit-learn.org/stable/modules/linear_model.html#logistic-regression\n",
      "  n_iter_i = _check_optimize_result(\n",
      "/home/toc/.local/lib/python3.10/site-packages/sklearn/linear_model/_logistic.py:444: ConvergenceWarning: lbfgs failed to converge (status=1):\n",
      "STOP: TOTAL NO. of ITERATIONS REACHED LIMIT.\n",
      "\n",
      "Increase the number of iterations (max_iter) or scale the data as shown in:\n",
      "    https://scikit-learn.org/stable/modules/preprocessing.html\n",
      "Please also refer to the documentation for alternative solver options:\n",
      "    https://scikit-learn.org/stable/modules/linear_model.html#logistic-regression\n",
      "  n_iter_i = _check_optimize_result(\n",
      "/home/toc/.local/lib/python3.10/site-packages/sklearn/linear_model/_logistic.py:444: ConvergenceWarning: lbfgs failed to converge (status=1):\n",
      "STOP: TOTAL NO. of ITERATIONS REACHED LIMIT.\n",
      "\n",
      "Increase the number of iterations (max_iter) or scale the data as shown in:\n",
      "    https://scikit-learn.org/stable/modules/preprocessing.html\n",
      "Please also refer to the documentation for alternative solver options:\n",
      "    https://scikit-learn.org/stable/modules/linear_model.html#logistic-regression\n",
      "  n_iter_i = _check_optimize_result(\n"
     ]
    },
    {
     "name": "stdout",
     "output_type": "stream",
     "text": [
      "logit empo_3 taxonomy_6\n"
     ]
    },
    {
     "name": "stderr",
     "output_type": "stream",
     "text": [
      "/home/toc/.local/lib/python3.10/site-packages/sklearn/linear_model/_logistic.py:444: ConvergenceWarning: lbfgs failed to converge (status=1):\n",
      "STOP: TOTAL NO. of ITERATIONS REACHED LIMIT.\n",
      "\n",
      "Increase the number of iterations (max_iter) or scale the data as shown in:\n",
      "    https://scikit-learn.org/stable/modules/preprocessing.html\n",
      "Please also refer to the documentation for alternative solver options:\n",
      "    https://scikit-learn.org/stable/modules/linear_model.html#logistic-regression\n",
      "  n_iter_i = _check_optimize_result(\n",
      "/home/toc/.local/lib/python3.10/site-packages/sklearn/linear_model/_logistic.py:444: ConvergenceWarning: lbfgs failed to converge (status=1):\n",
      "STOP: TOTAL NO. of ITERATIONS REACHED LIMIT.\n",
      "\n",
      "Increase the number of iterations (max_iter) or scale the data as shown in:\n",
      "    https://scikit-learn.org/stable/modules/preprocessing.html\n",
      "Please also refer to the documentation for alternative solver options:\n",
      "    https://scikit-learn.org/stable/modules/linear_model.html#logistic-regression\n",
      "  n_iter_i = _check_optimize_result(\n",
      "/home/toc/.local/lib/python3.10/site-packages/sklearn/linear_model/_logistic.py:444: ConvergenceWarning: lbfgs failed to converge (status=1):\n",
      "STOP: TOTAL NO. of ITERATIONS REACHED LIMIT.\n",
      "\n",
      "Increase the number of iterations (max_iter) or scale the data as shown in:\n",
      "    https://scikit-learn.org/stable/modules/preprocessing.html\n",
      "Please also refer to the documentation for alternative solver options:\n",
      "    https://scikit-learn.org/stable/modules/linear_model.html#logistic-regression\n",
      "  n_iter_i = _check_optimize_result(\n",
      "/home/toc/.local/lib/python3.10/site-packages/sklearn/linear_model/_logistic.py:444: ConvergenceWarning: lbfgs failed to converge (status=1):\n",
      "STOP: TOTAL NO. of ITERATIONS REACHED LIMIT.\n",
      "\n",
      "Increase the number of iterations (max_iter) or scale the data as shown in:\n",
      "    https://scikit-learn.org/stable/modules/preprocessing.html\n",
      "Please also refer to the documentation for alternative solver options:\n",
      "    https://scikit-learn.org/stable/modules/linear_model.html#logistic-regression\n",
      "  n_iter_i = _check_optimize_result(\n",
      "/home/toc/.local/lib/python3.10/site-packages/sklearn/linear_model/_logistic.py:444: ConvergenceWarning: lbfgs failed to converge (status=1):\n",
      "STOP: TOTAL NO. of ITERATIONS REACHED LIMIT.\n",
      "\n",
      "Increase the number of iterations (max_iter) or scale the data as shown in:\n",
      "    https://scikit-learn.org/stable/modules/preprocessing.html\n",
      "Please also refer to the documentation for alternative solver options:\n",
      "    https://scikit-learn.org/stable/modules/linear_model.html#logistic-regression\n",
      "  n_iter_i = _check_optimize_result(\n"
     ]
    },
    {
     "name": "stdout",
     "output_type": "stream",
     "text": [
      "logit empo_3 desc\n"
     ]
    },
    {
     "name": "stderr",
     "output_type": "stream",
     "text": [
      "/home/toc/.local/lib/python3.10/site-packages/sklearn/linear_model/_logistic.py:444: ConvergenceWarning: lbfgs failed to converge (status=1):\n",
      "STOP: TOTAL NO. of ITERATIONS REACHED LIMIT.\n",
      "\n",
      "Increase the number of iterations (max_iter) or scale the data as shown in:\n",
      "    https://scikit-learn.org/stable/modules/preprocessing.html\n",
      "Please also refer to the documentation for alternative solver options:\n",
      "    https://scikit-learn.org/stable/modules/linear_model.html#logistic-regression\n",
      "  n_iter_i = _check_optimize_result(\n",
      "/home/toc/.local/lib/python3.10/site-packages/sklearn/linear_model/_logistic.py:444: ConvergenceWarning: lbfgs failed to converge (status=1):\n",
      "STOP: TOTAL NO. of ITERATIONS REACHED LIMIT.\n",
      "\n",
      "Increase the number of iterations (max_iter) or scale the data as shown in:\n",
      "    https://scikit-learn.org/stable/modules/preprocessing.html\n",
      "Please also refer to the documentation for alternative solver options:\n",
      "    https://scikit-learn.org/stable/modules/linear_model.html#logistic-regression\n",
      "  n_iter_i = _check_optimize_result(\n",
      "/home/toc/.local/lib/python3.10/site-packages/sklearn/linear_model/_logistic.py:444: ConvergenceWarning: lbfgs failed to converge (status=1):\n",
      "STOP: TOTAL NO. of ITERATIONS REACHED LIMIT.\n",
      "\n",
      "Increase the number of iterations (max_iter) or scale the data as shown in:\n",
      "    https://scikit-learn.org/stable/modules/preprocessing.html\n",
      "Please also refer to the documentation for alternative solver options:\n",
      "    https://scikit-learn.org/stable/modules/linear_model.html#logistic-regression\n",
      "  n_iter_i = _check_optimize_result(\n",
      "/home/toc/.local/lib/python3.10/site-packages/sklearn/linear_model/_logistic.py:444: ConvergenceWarning: lbfgs failed to converge (status=1):\n",
      "STOP: TOTAL NO. of ITERATIONS REACHED LIMIT.\n",
      "\n",
      "Increase the number of iterations (max_iter) or scale the data as shown in:\n",
      "    https://scikit-learn.org/stable/modules/preprocessing.html\n",
      "Please also refer to the documentation for alternative solver options:\n",
      "    https://scikit-learn.org/stable/modules/linear_model.html#logistic-regression\n",
      "  n_iter_i = _check_optimize_result(\n",
      "/home/toc/.local/lib/python3.10/site-packages/sklearn/linear_model/_logistic.py:444: ConvergenceWarning: lbfgs failed to converge (status=1):\n",
      "STOP: TOTAL NO. of ITERATIONS REACHED LIMIT.\n",
      "\n",
      "Increase the number of iterations (max_iter) or scale the data as shown in:\n",
      "    https://scikit-learn.org/stable/modules/preprocessing.html\n",
      "Please also refer to the documentation for alternative solver options:\n",
      "    https://scikit-learn.org/stable/modules/linear_model.html#logistic-regression\n",
      "  n_iter_i = _check_optimize_result(\n"
     ]
    }
   ],
   "source": [
    "scores = []\n",
    "features = [(taxon_level, taxons[taxon_level]) for taxon_level in species.columns]\n",
    "features.append(('desc', desc))\n",
    "\n",
    "samples=None\n",
    "for clf_name, clf in [('rforest', clf_rforest), ('logit', clf_logit)]:\n",
    "    for empo in empo_names:\n",
    "        for feature_name, feature_vector in features:\n",
    "            print(clf_name, empo, feature_name)\n",
    "            \n",
    "            s = cross_validate_clf(clf, feature_vector, envs[empo], samples=samples)\n",
    "            s['clf_name'] = clf_name\n",
    "            s['empo'] = empo\n",
    "            s['features'] = feature_name\n",
    "        \n",
    "            scores.append(s)\n",
    "\n",
    "scores = pd.DataFrame(scores)"
   ]
  },
  {
   "cell_type": "code",
   "execution_count": 176,
   "metadata": {},
   "outputs": [],
   "source": [
    "for k in ['test_accuracy', 'score_time', 'test_f1_weighted', 'fit_time']:\n",
    "    scores[k + '_median'] = scores[k].apply(lambda x : np.median(x))"
   ]
  },
  {
   "cell_type": "code",
   "execution_count": 178,
   "metadata": {},
   "outputs": [],
   "source": [
    "scores.to_csv('scores.csv')"
   ]
  },
  {
   "cell_type": "code",
   "execution_count": 179,
   "metadata": {},
   "outputs": [
    {
     "name": "stderr",
     "output_type": "stream",
     "text": [
      "/home/toc/.local/lib/python3.10/site-packages/sklearn/linear_model/_logistic.py:444: ConvergenceWarning: lbfgs failed to converge (status=1):\n",
      "STOP: TOTAL NO. of ITERATIONS REACHED LIMIT.\n",
      "\n",
      "Increase the number of iterations (max_iter) or scale the data as shown in:\n",
      "    https://scikit-learn.org/stable/modules/preprocessing.html\n",
      "Please also refer to the documentation for alternative solver options:\n",
      "    https://scikit-learn.org/stable/modules/linear_model.html#logistic-regression\n",
      "  n_iter_i = _check_optimize_result(\n",
      "/home/toc/.local/lib/python3.10/site-packages/sklearn/linear_model/_logistic.py:444: ConvergenceWarning: lbfgs failed to converge (status=1):\n",
      "STOP: TOTAL NO. of ITERATIONS REACHED LIMIT.\n",
      "\n",
      "Increase the number of iterations (max_iter) or scale the data as shown in:\n",
      "    https://scikit-learn.org/stable/modules/preprocessing.html\n",
      "Please also refer to the documentation for alternative solver options:\n",
      "    https://scikit-learn.org/stable/modules/linear_model.html#logistic-regression\n",
      "  n_iter_i = _check_optimize_result(\n",
      "/home/toc/.local/lib/python3.10/site-packages/sklearn/linear_model/_logistic.py:444: ConvergenceWarning: lbfgs failed to converge (status=1):\n",
      "STOP: TOTAL NO. of ITERATIONS REACHED LIMIT.\n",
      "\n",
      "Increase the number of iterations (max_iter) or scale the data as shown in:\n",
      "    https://scikit-learn.org/stable/modules/preprocessing.html\n",
      "Please also refer to the documentation for alternative solver options:\n",
      "    https://scikit-learn.org/stable/modules/linear_model.html#logistic-regression\n",
      "  n_iter_i = _check_optimize_result(\n",
      "/home/toc/.local/lib/python3.10/site-packages/sklearn/linear_model/_logistic.py:444: ConvergenceWarning: lbfgs failed to converge (status=1):\n",
      "STOP: TOTAL NO. of ITERATIONS REACHED LIMIT.\n",
      "\n",
      "Increase the number of iterations (max_iter) or scale the data as shown in:\n",
      "    https://scikit-learn.org/stable/modules/preprocessing.html\n",
      "Please also refer to the documentation for alternative solver options:\n",
      "    https://scikit-learn.org/stable/modules/linear_model.html#logistic-regression\n",
      "  n_iter_i = _check_optimize_result(\n",
      "/home/toc/.local/lib/python3.10/site-packages/sklearn/linear_model/_logistic.py:444: ConvergenceWarning: lbfgs failed to converge (status=1):\n",
      "STOP: TOTAL NO. of ITERATIONS REACHED LIMIT.\n",
      "\n",
      "Increase the number of iterations (max_iter) or scale the data as shown in:\n",
      "    https://scikit-learn.org/stable/modules/preprocessing.html\n",
      "Please also refer to the documentation for alternative solver options:\n",
      "    https://scikit-learn.org/stable/modules/linear_model.html#logistic-regression\n",
      "  n_iter_i = _check_optimize_result(\n"
     ]
    },
    {
     "data": {
      "text/plain": [
       "{'fit_time': array([17.94763088, 17.51905298, 17.47496009, 18.24486899, 16.73412561]),\n",
       " 'score_time': array([0.0219779 , 0.01962638, 0.03721762, 0.01913238, 0.03646278]),\n",
       " 'test_accuracy': array([0.85847034, 0.84965452, 0.84965452, 0.85128694, 0.84056244]),\n",
       " 'test_f1_weighted': array([0.85270044, 0.84387855, 0.84519   , 0.84387834, 0.83496274])}"
      ]
     },
     "execution_count": 179,
     "metadata": {},
     "output_type": "execute_result"
    }
   ],
   "source": [
    "cross_validate_clf(clf_logit, taxons['taxonomy_6'], envs['empo_3'])"
   ]
  },
  {
   "cell_type": "code",
   "execution_count": 182,
   "metadata": {},
   "outputs": [
    {
     "name": "stderr",
     "output_type": "stream",
     "text": [
      "/home/toc/.local/lib/python3.10/site-packages/sklearn/linear_model/_logistic.py:444: ConvergenceWarning: lbfgs failed to converge (status=1):\n",
      "STOP: TOTAL NO. of ITERATIONS REACHED LIMIT.\n",
      "\n",
      "Increase the number of iterations (max_iter) or scale the data as shown in:\n",
      "    https://scikit-learn.org/stable/modules/preprocessing.html\n",
      "Please also refer to the documentation for alternative solver options:\n",
      "    https://scikit-learn.org/stable/modules/linear_model.html#logistic-regression\n",
      "  n_iter_i = _check_optimize_result(\n"
     ]
    },
    {
     "data": {
      "text/html": [
       "<style>#sk-container-id-2 {color: black;background-color: white;}#sk-container-id-2 pre{padding: 0;}#sk-container-id-2 div.sk-toggleable {background-color: white;}#sk-container-id-2 label.sk-toggleable__label {cursor: pointer;display: block;width: 100%;margin-bottom: 0;padding: 0.3em;box-sizing: border-box;text-align: center;}#sk-container-id-2 label.sk-toggleable__label-arrow:before {content: \"▸\";float: left;margin-right: 0.25em;color: #696969;}#sk-container-id-2 label.sk-toggleable__label-arrow:hover:before {color: black;}#sk-container-id-2 div.sk-estimator:hover label.sk-toggleable__label-arrow:before {color: black;}#sk-container-id-2 div.sk-toggleable__content {max-height: 0;max-width: 0;overflow: hidden;text-align: left;background-color: #f0f8ff;}#sk-container-id-2 div.sk-toggleable__content pre {margin: 0.2em;color: black;border-radius: 0.25em;background-color: #f0f8ff;}#sk-container-id-2 input.sk-toggleable__control:checked~div.sk-toggleable__content {max-height: 200px;max-width: 100%;overflow: auto;}#sk-container-id-2 input.sk-toggleable__control:checked~label.sk-toggleable__label-arrow:before {content: \"▾\";}#sk-container-id-2 div.sk-estimator input.sk-toggleable__control:checked~label.sk-toggleable__label {background-color: #d4ebff;}#sk-container-id-2 div.sk-label input.sk-toggleable__control:checked~label.sk-toggleable__label {background-color: #d4ebff;}#sk-container-id-2 input.sk-hidden--visually {border: 0;clip: rect(1px 1px 1px 1px);clip: rect(1px, 1px, 1px, 1px);height: 1px;margin: -1px;overflow: hidden;padding: 0;position: absolute;width: 1px;}#sk-container-id-2 div.sk-estimator {font-family: monospace;background-color: #f0f8ff;border: 1px dotted black;border-radius: 0.25em;box-sizing: border-box;margin-bottom: 0.5em;}#sk-container-id-2 div.sk-estimator:hover {background-color: #d4ebff;}#sk-container-id-2 div.sk-parallel-item::after {content: \"\";width: 100%;border-bottom: 1px solid gray;flex-grow: 1;}#sk-container-id-2 div.sk-label:hover label.sk-toggleable__label {background-color: #d4ebff;}#sk-container-id-2 div.sk-serial::before {content: \"\";position: absolute;border-left: 1px solid gray;box-sizing: border-box;top: 0;bottom: 0;left: 50%;z-index: 0;}#sk-container-id-2 div.sk-serial {display: flex;flex-direction: column;align-items: center;background-color: white;padding-right: 0.2em;padding-left: 0.2em;position: relative;}#sk-container-id-2 div.sk-item {position: relative;z-index: 1;}#sk-container-id-2 div.sk-parallel {display: flex;align-items: stretch;justify-content: center;background-color: white;position: relative;}#sk-container-id-2 div.sk-item::before, #sk-container-id-2 div.sk-parallel-item::before {content: \"\";position: absolute;border-left: 1px solid gray;box-sizing: border-box;top: 0;bottom: 0;left: 50%;z-index: -1;}#sk-container-id-2 div.sk-parallel-item {display: flex;flex-direction: column;z-index: 1;position: relative;background-color: white;}#sk-container-id-2 div.sk-parallel-item:first-child::after {align-self: flex-end;width: 50%;}#sk-container-id-2 div.sk-parallel-item:last-child::after {align-self: flex-start;width: 50%;}#sk-container-id-2 div.sk-parallel-item:only-child::after {width: 0;}#sk-container-id-2 div.sk-dashed-wrapped {border: 1px dashed gray;margin: 0 0.4em 0.5em 0.4em;box-sizing: border-box;padding-bottom: 0.4em;background-color: white;}#sk-container-id-2 div.sk-label label {font-family: monospace;font-weight: bold;display: inline-block;line-height: 1.2em;}#sk-container-id-2 div.sk-label-container {text-align: center;}#sk-container-id-2 div.sk-container {/* jupyter's `normalize.less` sets `[hidden] { display: none; }` but bootstrap.min.css set `[hidden] { display: none !important; }` so we also need the `!important` here to be able to override the default hidden behavior on the sphinx rendered scikit-learn.org. See: https://github.com/scikit-learn/scikit-learn/issues/21755 */display: inline-block !important;position: relative;}#sk-container-id-2 div.sk-text-repr-fallback {display: none;}</style><div id=\"sk-container-id-2\" class=\"sk-top-container\"><div class=\"sk-text-repr-fallback\"><pre>LogisticRegression(n_jobs=-1, random_state=0)</pre><b>In a Jupyter environment, please rerun this cell to show the HTML representation or trust the notebook. <br />On GitHub, the HTML representation is unable to render, please try loading this page with nbviewer.org.</b></div><div class=\"sk-container\" hidden><div class=\"sk-item\"><div class=\"sk-estimator sk-toggleable\"><input class=\"sk-toggleable__control sk-hidden--visually\" id=\"sk-estimator-id-2\" type=\"checkbox\" checked><label for=\"sk-estimator-id-2\" class=\"sk-toggleable__label sk-toggleable__label-arrow\">LogisticRegression</label><div class=\"sk-toggleable__content\"><pre>LogisticRegression(n_jobs=-1, random_state=0)</pre></div></div></div></div></div>"
      ],
      "text/plain": [
       "LogisticRegression(n_jobs=-1, random_state=0)"
      ]
     },
     "execution_count": 182,
     "metadata": {},
     "output_type": "execute_result"
    }
   ],
   "source": [
    "feature_vector = taxons['taxonomy_6']\n",
    "n_features = feature_vector.shape[-1]\n",
    "\n",
    "# D_0 : Domain\n",
    "# D_1 : ?\n",
    "# D_2 : Class\n",
    "# D_3 : Order\n",
    "# D_4 : Family\n",
    "# D_5 : ?\n",
    "# D_6 : ?\n",
    "\n",
    "clf_logit.fit(feature_vector, envs['empo_1'])"
   ]
  },
  {
   "cell_type": "code",
   "execution_count": 192,
   "metadata": {},
   "outputs": [
    {
     "name": "stderr",
     "output_type": "stream",
     "text": [
      "/tmp/ipykernel_716503/3140312975.py:2: RuntimeWarning: divide by zero encountered in log10\n",
      "  plt.plot(range(n_features), sorted(np.log10(abs(clf_logit.coef_[0][feature_idx]))))\n"
     ]
    },
    {
     "data": {
      "application/vnd.jupyter.widget-view+json": {
       "model_id": "6046c1cfda1545d98745b9fb123e7152",
       "version_major": 2,
       "version_minor": 0
      },
      "image/png": "[encoded data removed]",
      "text/html": [
       "\n",
       "            <div style=\"display: inline-block;\">\n",
       "                <div class=\"jupyter-widgets widget-label\" style=\"text-align: center;\">\n",
       "                    Figure\n",
       "                </div>\n",
       "                <img src='data:image/png;base64,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' width=640.0/>\n",
       "            </div>\n",
       "        "
      ],
      "text/plain": [
       "Canvas(toolbar=Toolbar(toolitems=[('Home', 'Reset original view', 'home', 'home'), ('Back', 'Back to previous …"
      ]
     },
     "metadata": {},
     "output_type": "display_data"
    },
    {
     "name": "stdout",
     "output_type": "stream",
     "text": [
      "Index(['D_6__Cryptosporangium arvum DSM 44712',\n",
      "       'D_6__uncultured planctomycete', 'D_6__Acinetobacter sp. OTUC6',\n",
      "       'D_6__Arthrobacter sp. V-34',\n",
      "       'D_6__uncultured Rhodocyclaceae bacterium', 'D_6__Burkholderia tuberum',\n",
      "       'D_6__Lactobacillus kunkeei', 'D_6__Hyphomonadaceae bacterium JC2236',\n",
      "       'D_6__Acetobacteraceae bacterium B7_1CO2',\n",
      "       'D_6__Novosphingobium resinovorum', 'D_6__Annona muricata',\n",
      "       'D_6__uncultured Brevibacillus sp.',\n",
      "       'D_6__Prevotella corporis DSM 18810 = JCM 8529',\n",
      "       'D_6__Rhodococcus sp. GBA_111-04', 'D_6__Anaerococcus murdochii',\n",
      "       'D_6__Scaevola aemula', 'D_6__Frischella perrara',\n",
      "       'D_6__Corynebacterium riegelii',\n",
      "       'D_6__uncultured Syntrophaceae bacterium',\n",
      "       'D_6__Aquimarina sp. KMM 6374', 'D_6__Ectocarpus siliculosus',\n",
      "       'D_6__Serratia nematodiphila', 'D_6__Simplicispira sp. BDI',\n",
      "       'D_6__unclassified Pseudomonadales (miscellaneous)',\n",
      "       'D_6__Enterococcus faecalis', 'D_6__Sphingomonas sp. Cra4',\n",
      "       'D_6__Niastella sp. 5GH22-11', 'D_6__Leptotrichia sp. ES2714_GLU',\n",
      "       'D_6__Pedobacter sp. Zs28', 'D_6__Arenicella xantha',\n",
      "       'D_6__Pedobacter sp. JC2490',\n",
      "       'D_6__uncultured Desulfuromonadales bacterium',\n",
      "       'D_6__Flectobacillus roseus', 'D_6__Peptoniphilus sp. S7MS8',\n",
      "       'D_6__uncultured Acidobacteriales bacterium',\n",
      "       'D_6__Apis mellifera (honey bee)',\n",
      "       'D_6__uncultured Ruminococcaceae bacterium',\n",
      "       'D_6__gamma proteobacterium endosymbiont of Lamellibrachia anaximandri',\n",
      "       'D_6__uncultured Pseudomonas sp.', 'D_6__Acinetobacter sp. CW17-2',\n",
      "       'D_6__Arthrobacter sp. HXG-D2',\n",
      "       'D_6__uncultured Hyphomicrobiaceae bacterium',\n",
      "       'D_6__Leucothrix sp. IMCC9719', 'D_6__Oerskovia paurometabola',\n",
      "       'D_6__Aquabacterium fontiphilum',\n",
      "       'D_6__uncultured Bacteroidales bacterium',\n",
      "       'D_6__Staphylococcus warneri', 'D_6__Fusobacterium periodonticum',\n",
      "       'D_6__uncultured rumen bacterium', 'D_6__Oryza sativa (rice)'],\n",
      "      dtype='object')\n",
      "Index(['D_6__uncultured actinobacterium',\n",
      "       'D_6__uncultured delta proteobacterium',\n",
      "       'D_6__uncultured Spartobacteria bacterium',\n",
      "       'D_6__Phytophthora ramorum (Sudden oak death agent)',\n",
      "       'D_6__uncultured deep-sea bacterium', 'D_6__Cylindrotheca closterium',\n",
      "       'D_6__uncultured epsilon proteobacterium', 'D_6__Shewanella sp.',\n",
      "       'D_6__uncultured eukaryote', 'D_6__Flavobacterium hercynium',\n",
      "       'D_6__Roseomonas mucosa ATCC BAA-692', 'D_6__Eucidaris tribuloides',\n",
      "       'D_6__Bradyrhizobium elkanii', 'D_6__Synechococcus sp. P2',\n",
      "       'D_6__Chloroflexus sp. 396-1', 'D_6__uncultured beta proteobacterium',\n",
      "       'D_6__uncultured forest soil bacterium', 'D_6__Polaribacter sp. UI13',\n",
      "       'D_6__marine metagenome', 'D_6__Serratia proteamaculans',\n",
      "       'D_6__Actinomycetales bacterium AB2045', 'D_6__Leptothrix discophora',\n",
      "       'D_6__Synechococcus sp. 37', 'D_6__Dinophysis acuminata',\n",
      "       'D_6__Synedra hyperborea', 'D_6__uncultured Actinomycetales bacterium',\n",
      "       'D_6__Pseudogymnoascus pannorum VKM F-3775',\n",
      "       'D_6__uncultured sediment bacterium', 'D_6__Cuscuta pentagona',\n",
      "       'D_6__Psychroflexus torquis ATCC 700755',\n",
      "       'D_6__uncultured Sphingobium sp.', 'D_6__uncultured Synechococcus sp.',\n",
      "       'D_6__uncultured Bacteroidetes/Chlorobi group bacterium',\n",
      "       'D_6__uncultured Ktedonobacter sp.', 'D_6__Ahrensia sp. DFL-44',\n",
      "       'D_6__Actinomyces sp. oral clone EP053',\n",
      "       'D_6__Alteromonadaceae bacterium P3', 'D_6__Thermus sp. TibetanG7',\n",
      "       'D_6__uncultured Catenulispora sp.',\n",
      "       'D_6__Actinomyces sp. 2002-2301122', 'D_6__Callitris preissii',\n",
      "       'D_6__Trichophyton rubrum', 'D_6__bacterium Mn113133',\n",
      "       'D_6__filamentous thermophilic cyanobacterium tBTRCCn 302',\n",
      "       'D_6__Pelagicola sp. RHS-str.Ne D', 'D_6__Gemmobacter changlensis',\n",
      "       'D_6__Rhynchosporium agropyri', 'D_6__uncultured Nitrospira sp.',\n",
      "       'D_6__uncultured Chitinophagaceae bacterium',\n",
      "       'D_6__Penicillium rubens Wisconsin 54-1255'],\n",
      "      dtype='object')\n"
     ]
    }
   ],
   "source": [
    "feature_idx = np.argsort(clf_logit.coef_[0])\n",
    "plt.plot(range(n_features), sorted(np.log10(abs(clf_logit.coef_[0][feature_idx]))))\n",
    "plt.show()\n",
    "\n",
    "n = 50\n",
    "print(taxon_names['taxonomy_6'][feature_idx[-50:]])\n",
    "print(taxon_names['taxonomy_6'][feature_idx[:50]])"
   ]
  },
  {
   "cell_type": "markdown",
   "metadata": {},
   "source": [
    "# Dimensionality reduction"
   ]
  },
  {
   "cell_type": "code",
   "execution_count": 17,
   "metadata": {},
   "outputs": [
    {
     "name": "stdout",
     "output_type": "stream",
     "text": [
      "  (0, 11)\t95\n",
      "  (0, 29)\t2\n",
      "  (0, 63)\t1\n",
      "  (0, 187)\t7\n",
      "  (0, 308)\t2\n",
      "  (0, 310)\t2\n",
      "  (0, 335)\t22\n",
      "  (0, 338)\t2\n",
      "  (0, 427)\t1\n",
      "  (0, 478)\t26\n",
      "  (0, 517)\t188\n",
      "  (0, 557)\t11\n",
      "  (0, 570)\t1\n",
      "  (0, 592)\t1\n",
      "  (0, 602)\t4\n",
      "  (0, 687)\t2\n",
      "  (0, 736)\t19\n",
      "  (0, 774)\t1\n",
      "  (0, 788)\t1\n",
      "  (0, 905)\t49\n",
      "  (0, 943)\t11\n",
      "  (0, 949)\t1\n",
      "  (0, 956)\t4\n",
      "  (0, 1132)\t247\n",
      "  (0, 1195)\t1\n",
      "  :\t:\n",
      "  (20982, 84834)\t1\n",
      "  (20982, 85015)\t2\n",
      "  (20982, 85149)\t1\n",
      "  (20982, 85258)\t1\n",
      "  (20982, 85274)\t1\n",
      "  (20982, 85316)\t2\n",
      "  (20982, 85446)\t1\n",
      "  (20982, 94733)\t2\n",
      "  (20982, 96643)\t3\n",
      "  (20982, 96811)\t1\n",
      "  (20982, 97782)\t1\n",
      "  (20982, 98552)\t1\n",
      "  (20982, 105069)\t1\n",
      "  (20982, 105522)\t1\n",
      "  (20982, 105526)\t1\n",
      "  (20982, 105545)\t1\n",
      "  (20982, 105554)\t2\n",
      "  (20982, 105572)\t1\n",
      "  (20982, 105592)\t1\n",
      "  (20982, 105642)\t1\n",
      "  (20982, 105750)\t2\n",
      "  (20982, 105755)\t2\n",
      "  (20982, 105793)\t42\n",
      "  (20982, 105846)\t1\n",
      "  (20982, 105853)\t3\n",
      "taxonomy_0 1\n",
      "taxonomy_1 67\n",
      "taxonomy_2 373\n",
      "taxonomy_3 1120\n",
      "taxonomy_4 1705\n",
      "taxonomy_5 4255\n",
      "taxonomy_6 15295\n"
     ]
    }
   ],
   "source": [
    "print(desc)\n",
    "for taxonomy in list(species):\n",
    "    print(taxonomy, species[taxonomy].unique().size)"
   ]
  },
  {
   "cell_type": "code",
   "execution_count": 18,
   "metadata": {},
   "outputs": [
    {
     "ename": "KeyboardInterrupt",
     "evalue": "",
     "output_type": "error",
     "traceback": [
      "\u001b[0;31m---------------------------------------------------------------------------\u001b[0m",
      "\u001b[0;31mKeyboardInterrupt\u001b[0m                         Traceback (most recent call last)",
      "\u001b[0;32m/tmp/ipykernel_713794/3080144348.py\u001b[0m in \u001b[0;36m<module>\u001b[0;34m\u001b[0m\n\u001b[1;32m      2\u001b[0m \u001b[0;34m\u001b[0m\u001b[0m\n\u001b[1;32m      3\u001b[0m \u001b[0msvd\u001b[0m \u001b[0;34m=\u001b[0m \u001b[0mTruncatedSVD\u001b[0m\u001b[0;34m(\u001b[0m\u001b[0mn_components\u001b[0m\u001b[0;34m=\u001b[0m\u001b[0;36m200\u001b[0m\u001b[0;34m)\u001b[0m\u001b[0;34m\u001b[0m\u001b[0;34m\u001b[0m\u001b[0m\n\u001b[0;32m----> 4\u001b[0;31m \u001b[0msvd\u001b[0m\u001b[0;34m.\u001b[0m\u001b[0mfit\u001b[0m\u001b[0;34m(\u001b[0m\u001b[0mdesc\u001b[0m\u001b[0;34m)\u001b[0m\u001b[0;34m\u001b[0m\u001b[0;34m\u001b[0m\u001b[0m\n\u001b[0m",
      "\u001b[0;32m~/.local/lib/python3.10/site-packages/sklearn/decomposition/_truncated_svd.py\u001b[0m in \u001b[0;36mfit\u001b[0;34m(self, X, y)\u001b[0m\n\u001b[1;32m    190\u001b[0m             \u001b[0mReturns\u001b[0m \u001b[0mthe\u001b[0m \u001b[0mtransformer\u001b[0m \u001b[0mobject\u001b[0m\u001b[0;34m.\u001b[0m\u001b[0;34m\u001b[0m\u001b[0;34m\u001b[0m\u001b[0m\n\u001b[1;32m    191\u001b[0m         \"\"\"\n\u001b[0;32m--> 192\u001b[0;31m         \u001b[0mself\u001b[0m\u001b[0;34m.\u001b[0m\u001b[0mfit_transform\u001b[0m\u001b[0;34m(\u001b[0m\u001b[0mX\u001b[0m\u001b[0;34m)\u001b[0m\u001b[0;34m\u001b[0m\u001b[0;34m\u001b[0m\u001b[0m\n\u001b[0m\u001b[1;32m    193\u001b[0m         \u001b[0;32mreturn\u001b[0m \u001b[0mself\u001b[0m\u001b[0;34m\u001b[0m\u001b[0;34m\u001b[0m\u001b[0m\n\u001b[1;32m    194\u001b[0m \u001b[0;34m\u001b[0m\u001b[0m\n",
      "\u001b[0;32m~/.local/lib/python3.10/site-packages/sklearn/decomposition/_truncated_svd.py\u001b[0m in \u001b[0;36mfit_transform\u001b[0;34m(self, X, y)\u001b[0m\n\u001b[1;32m    237\u001b[0m                 \u001b[0mmax_val\u001b[0m\u001b[0;34m=\u001b[0m\u001b[0mn_features\u001b[0m\u001b[0;34m,\u001b[0m\u001b[0;34m\u001b[0m\u001b[0;34m\u001b[0m\u001b[0m\n\u001b[1;32m    238\u001b[0m             )\n\u001b[0;32m--> 239\u001b[0;31m             U, Sigma, VT = randomized_svd(\n\u001b[0m\u001b[1;32m    240\u001b[0m                 \u001b[0mX\u001b[0m\u001b[0;34m,\u001b[0m\u001b[0;34m\u001b[0m\u001b[0;34m\u001b[0m\u001b[0m\n\u001b[1;32m    241\u001b[0m                 \u001b[0mself\u001b[0m\u001b[0;34m.\u001b[0m\u001b[0mn_components\u001b[0m\u001b[0;34m,\u001b[0m\u001b[0;34m\u001b[0m\u001b[0;34m\u001b[0m\u001b[0m\n",
      "\u001b[0;32m~/.local/lib/python3.10/site-packages/sklearn/utils/extmath.py\u001b[0m in \u001b[0;36mrandomized_svd\u001b[0;34m(M, n_components, n_oversamples, n_iter, power_iteration_normalizer, transpose, flip_sign, random_state)\u001b[0m\n\u001b[1;32m    395\u001b[0m         \u001b[0mM\u001b[0m \u001b[0;34m=\u001b[0m \u001b[0mM\u001b[0m\u001b[0;34m.\u001b[0m\u001b[0mT\u001b[0m\u001b[0;34m\u001b[0m\u001b[0;34m\u001b[0m\u001b[0m\n\u001b[1;32m    396\u001b[0m \u001b[0;34m\u001b[0m\u001b[0m\n\u001b[0;32m--> 397\u001b[0;31m     Q = randomized_range_finder(\n\u001b[0m\u001b[1;32m    398\u001b[0m         \u001b[0mM\u001b[0m\u001b[0;34m,\u001b[0m\u001b[0;34m\u001b[0m\u001b[0;34m\u001b[0m\u001b[0m\n\u001b[1;32m    399\u001b[0m         \u001b[0msize\u001b[0m\u001b[0;34m=\u001b[0m\u001b[0mn_random\u001b[0m\u001b[0;34m,\u001b[0m\u001b[0;34m\u001b[0m\u001b[0;34m\u001b[0m\u001b[0m\n",
      "\u001b[0;32m~/.local/lib/python3.10/site-packages/sklearn/utils/extmath.py\u001b[0m in \u001b[0;36mrandomized_range_finder\u001b[0;34m(A, size, n_iter, power_iteration_normalizer, random_state)\u001b[0m\n\u001b[1;32m    235\u001b[0m             \u001b[0mQ\u001b[0m \u001b[0;34m=\u001b[0m \u001b[0msafe_sparse_dot\u001b[0m\u001b[0;34m(\u001b[0m\u001b[0mA\u001b[0m\u001b[0;34m.\u001b[0m\u001b[0mT\u001b[0m\u001b[0;34m,\u001b[0m \u001b[0mQ\u001b[0m\u001b[0;34m)\u001b[0m\u001b[0;34m\u001b[0m\u001b[0;34m\u001b[0m\u001b[0m\n\u001b[1;32m    236\u001b[0m         \u001b[0;32melif\u001b[0m \u001b[0mpower_iteration_normalizer\u001b[0m \u001b[0;34m==\u001b[0m \u001b[0;34m\"LU\"\u001b[0m\u001b[0;34m:\u001b[0m\u001b[0;34m\u001b[0m\u001b[0;34m\u001b[0m\u001b[0m\n\u001b[0;32m--> 237\u001b[0;31m             \u001b[0mQ\u001b[0m\u001b[0;34m,\u001b[0m \u001b[0m_\u001b[0m \u001b[0;34m=\u001b[0m \u001b[0mlinalg\u001b[0m\u001b[0;34m.\u001b[0m\u001b[0mlu\u001b[0m\u001b[0;34m(\u001b[0m\u001b[0msafe_sparse_dot\u001b[0m\u001b[0;34m(\u001b[0m\u001b[0mA\u001b[0m\u001b[0;34m,\u001b[0m \u001b[0mQ\u001b[0m\u001b[0;34m)\u001b[0m\u001b[0;34m,\u001b[0m \u001b[0mpermute_l\u001b[0m\u001b[0;34m=\u001b[0m\u001b[0;32mTrue\u001b[0m\u001b[0;34m)\u001b[0m\u001b[0;34m\u001b[0m\u001b[0;34m\u001b[0m\u001b[0m\n\u001b[0m\u001b[1;32m    238\u001b[0m             \u001b[0mQ\u001b[0m\u001b[0;34m,\u001b[0m \u001b[0m_\u001b[0m \u001b[0;34m=\u001b[0m \u001b[0mlinalg\u001b[0m\u001b[0;34m.\u001b[0m\u001b[0mlu\u001b[0m\u001b[0;34m(\u001b[0m\u001b[0msafe_sparse_dot\u001b[0m\u001b[0;34m(\u001b[0m\u001b[0mA\u001b[0m\u001b[0;34m.\u001b[0m\u001b[0mT\u001b[0m\u001b[0;34m,\u001b[0m \u001b[0mQ\u001b[0m\u001b[0;34m)\u001b[0m\u001b[0;34m,\u001b[0m \u001b[0mpermute_l\u001b[0m\u001b[0;34m=\u001b[0m\u001b[0;32mTrue\u001b[0m\u001b[0;34m)\u001b[0m\u001b[0;34m\u001b[0m\u001b[0;34m\u001b[0m\u001b[0m\n\u001b[1;32m    239\u001b[0m         \u001b[0;32melif\u001b[0m \u001b[0mpower_iteration_normalizer\u001b[0m \u001b[0;34m==\u001b[0m \u001b[0;34m\"QR\"\u001b[0m\u001b[0;34m:\u001b[0m\u001b[0;34m\u001b[0m\u001b[0;34m\u001b[0m\u001b[0m\n",
      "\u001b[0;32m~/.local/lib/python3.10/site-packages/sklearn/utils/extmath.py\u001b[0m in \u001b[0;36msafe_sparse_dot\u001b[0;34m(a, b, dense_output)\u001b[0m\n\u001b[1;32m    150\u001b[0m             \u001b[0mret\u001b[0m \u001b[0;34m=\u001b[0m \u001b[0mnp\u001b[0m\u001b[0;34m.\u001b[0m\u001b[0mdot\u001b[0m\u001b[0;34m(\u001b[0m\u001b[0ma\u001b[0m\u001b[0;34m,\u001b[0m \u001b[0mb\u001b[0m\u001b[0;34m)\u001b[0m\u001b[0;34m\u001b[0m\u001b[0;34m\u001b[0m\u001b[0m\n\u001b[1;32m    151\u001b[0m     \u001b[0;32melse\u001b[0m\u001b[0;34m:\u001b[0m\u001b[0;34m\u001b[0m\u001b[0;34m\u001b[0m\u001b[0m\n\u001b[0;32m--> 152\u001b[0;31m         \u001b[0mret\u001b[0m \u001b[0;34m=\u001b[0m \u001b[0ma\u001b[0m \u001b[0;34m@\u001b[0m \u001b[0mb\u001b[0m\u001b[0;34m\u001b[0m\u001b[0;34m\u001b[0m\u001b[0m\n\u001b[0m\u001b[1;32m    153\u001b[0m \u001b[0;34m\u001b[0m\u001b[0m\n\u001b[1;32m    154\u001b[0m     if (\n",
      "\u001b[0;32m~/.local/lib/python3.10/site-packages/scipy/sparse/_base.py\u001b[0m in \u001b[0;36m__matmul__\u001b[0;34m(self, other)\u001b[0m\n\u001b[1;32m    628\u001b[0m             raise ValueError(\"Scalar operands are not allowed, \"\n\u001b[1;32m    629\u001b[0m                              \"use '*' instead\")\n\u001b[0;32m--> 630\u001b[0;31m         \u001b[0;32mreturn\u001b[0m \u001b[0mself\u001b[0m\u001b[0;34m.\u001b[0m\u001b[0m_mul_dispatch\u001b[0m\u001b[0;34m(\u001b[0m\u001b[0mother\u001b[0m\u001b[0;34m)\u001b[0m\u001b[0;34m\u001b[0m\u001b[0;34m\u001b[0m\u001b[0m\n\u001b[0m\u001b[1;32m    631\u001b[0m \u001b[0;34m\u001b[0m\u001b[0m\n\u001b[1;32m    632\u001b[0m     \u001b[0;32mdef\u001b[0m \u001b[0m__rmatmul__\u001b[0m\u001b[0;34m(\u001b[0m\u001b[0mself\u001b[0m\u001b[0;34m,\u001b[0m \u001b[0mother\u001b[0m\u001b[0;34m)\u001b[0m\u001b[0;34m:\u001b[0m\u001b[0;34m\u001b[0m\u001b[0;34m\u001b[0m\u001b[0m\n",
      "\u001b[0;32m~/.local/lib/python3.10/site-packages/scipy/sparse/_base.py\u001b[0m in \u001b[0;36m_mul_dispatch\u001b[0;34m(self, other)\u001b[0m\n\u001b[1;32m    530\u001b[0m                 \u001b[0;32mreturn\u001b[0m \u001b[0mself\u001b[0m\u001b[0;34m.\u001b[0m\u001b[0m_mul_vector\u001b[0m\u001b[0;34m(\u001b[0m\u001b[0mother\u001b[0m\u001b[0;34m.\u001b[0m\u001b[0mravel\u001b[0m\u001b[0;34m(\u001b[0m\u001b[0;34m)\u001b[0m\u001b[0;34m)\u001b[0m\u001b[0;34m.\u001b[0m\u001b[0mreshape\u001b[0m\u001b[0;34m(\u001b[0m\u001b[0mM\u001b[0m\u001b[0;34m,\u001b[0m \u001b[0;36m1\u001b[0m\u001b[0;34m)\u001b[0m\u001b[0;34m\u001b[0m\u001b[0;34m\u001b[0m\u001b[0m\n\u001b[1;32m    531\u001b[0m             \u001b[0;32melif\u001b[0m \u001b[0mother\u001b[0m\u001b[0;34m.\u001b[0m\u001b[0mndim\u001b[0m \u001b[0;34m==\u001b[0m \u001b[0;36m2\u001b[0m \u001b[0;32mand\u001b[0m \u001b[0mother\u001b[0m\u001b[0;34m.\u001b[0m\u001b[0mshape\u001b[0m\u001b[0;34m[\u001b[0m\u001b[0;36m0\u001b[0m\u001b[0;34m]\u001b[0m \u001b[0;34m==\u001b[0m \u001b[0mN\u001b[0m\u001b[0;34m:\u001b[0m\u001b[0;34m\u001b[0m\u001b[0;34m\u001b[0m\u001b[0m\n\u001b[0;32m--> 532\u001b[0;31m                 \u001b[0;32mreturn\u001b[0m \u001b[0mself\u001b[0m\u001b[0;34m.\u001b[0m\u001b[0m_mul_multivector\u001b[0m\u001b[0;34m(\u001b[0m\u001b[0mother\u001b[0m\u001b[0;34m)\u001b[0m\u001b[0;34m\u001b[0m\u001b[0;34m\u001b[0m\u001b[0m\n\u001b[0m\u001b[1;32m    533\u001b[0m \u001b[0;34m\u001b[0m\u001b[0m\n\u001b[1;32m    534\u001b[0m         \u001b[0;32mif\u001b[0m \u001b[0misscalarlike\u001b[0m\u001b[0;34m(\u001b[0m\u001b[0mother\u001b[0m\u001b[0;34m)\u001b[0m\u001b[0;34m:\u001b[0m\u001b[0;34m\u001b[0m\u001b[0;34m\u001b[0m\u001b[0m\n",
      "\u001b[0;32m~/.local/lib/python3.10/site-packages/scipy/sparse/_compressed.py\u001b[0m in \u001b[0;36m_mul_multivector\u001b[0;34m(self, other)\u001b[0m\n\u001b[1;32m    500\u001b[0m         \u001b[0;31m# csr_matvecs or csc_matvecs\u001b[0m\u001b[0;34m\u001b[0m\u001b[0;34m\u001b[0m\u001b[0m\n\u001b[1;32m    501\u001b[0m         \u001b[0mfn\u001b[0m \u001b[0;34m=\u001b[0m \u001b[0mgetattr\u001b[0m\u001b[0;34m(\u001b[0m\u001b[0m_sparsetools\u001b[0m\u001b[0;34m,\u001b[0m \u001b[0mself\u001b[0m\u001b[0;34m.\u001b[0m\u001b[0mformat\u001b[0m \u001b[0;34m+\u001b[0m \u001b[0;34m'_matvecs'\u001b[0m\u001b[0;34m)\u001b[0m\u001b[0;34m\u001b[0m\u001b[0;34m\u001b[0m\u001b[0m\n\u001b[0;32m--> 502\u001b[0;31m         fn(M, N, n_vecs, self.indptr, self.indices, self.data,\n\u001b[0m\u001b[1;32m    503\u001b[0m            other.ravel(), result.ravel())\n\u001b[1;32m    504\u001b[0m \u001b[0;34m\u001b[0m\u001b[0m\n",
      "\u001b[0;31mKeyboardInterrupt\u001b[0m: "
     ]
    }
   ],
   "source": [
    "from sklearn.decomposition import TruncatedSVD\n",
    "\n",
    "svd = TruncatedSVD(n_components=200)\n",
    "svd.fit(desc)"
   ]
  },
  {
   "cell_type": "code",
   "execution_count": null,
   "metadata": {},
   "outputs": [],
   "source": [
    "svd.explained_variance_ratio_.sum()"
   ]
  },
  {
   "cell_type": "code",
   "execution_count": null,
   "metadata": {},
   "outputs": [],
   "source": [
    "desc_reduced = svd.transform(desc)"
   ]
  },
  {
   "cell_type": "code",
   "execution_count": null,
   "metadata": {},
   "outputs": [],
   "source": [
    "cross_validate_clf(clf_logit, desc_reduced, envs, 'empo_1')"
   ]
  },
  {
   "cell_type": "code",
   "execution_count": null,
   "metadata": {},
   "outputs": [],
   "source": [
    "cross_validate_clf(clf_logit, desc_reduced, envs, 'empo_2')"
   ]
  },
  {
   "cell_type": "code",
   "execution_count": null,
   "metadata": {},
   "outputs": [],
   "source": [
    "cross_validate_clf(clf_logit, desc_reduced, envs, 'empo_3')"
   ]
  },
  {
   "cell_type": "code",
   "execution_count": null,
   "metadata": {},
   "outputs": [],
   "source": [
    "svd.components_.shape"
   ]
  },
  {
   "cell_type": "code",
   "execution_count": null,
   "metadata": {},
   "outputs": [],
   "source": [
    "plt.ylim(0, 1)\n",
    "plt.plot(svd.explained_variance_ratio_.cumsum())"
   ]
  },
  {
   "cell_type": "code",
   "execution_count": null,
   "metadata": {},
   "outputs": [],
   "source": [
    "plt.imshow(svd.components_ > 1e-6, aspect='auto')\n",
    "plt.colorbar()"
   ]
  },
  {
   "cell_type": "code",
   "execution_count": null,
   "metadata": {},
   "outputs": [],
   "source": [
    "from sklearn.feature_selection import VarianceThreshold, SelectKBest, mutual_info_classif\n",
    "selector = SelectKBest(mutual_info_classif, k=200)"
   ]
  },
  {
   "cell_type": "code",
   "execution_count": null,
   "metadata": {},
   "outputs": [],
   "source": [
    "n=100\n",
    "selector.fit(desc[:n], envs['empo_1'][:n])"
   ]
  },
  {
   "cell_type": "markdown",
   "metadata": {},
   "source": [
    "# Challenge prediction"
   ]
  },
  {
   "cell_type": "code",
   "execution_count": null,
   "metadata": {},
   "outputs": [],
   "source": [
    "challenge_desc = sps.load_npz('challenge_descriptors_sparse.npz')"
   ]
  },
  {
   "cell_type": "code",
   "execution_count": null,
   "metadata": {},
   "outputs": [],
   "source": [
    "train_clf(clf_logit, desc, envs, 'empo_1')"
   ]
  }
 ],
 "metadata": {
  "kernelspec": {
   "display_name": "Python 3",
   "language": "python",
   "name": "python3"
  },
  "language_info": {
   "codemirror_mode": {
    "name": "ipython",
    "version": 3
   },
   "file_extension": ".py",
   "mimetype": "text/x-python",
   "name": "python",
   "nbconvert_exporter": "python",
   "pygments_lexer": "ipython3",
   "version": "3.10.7"
  }
 },
 "nbformat": 4,
 "nbformat_minor": 4
}
